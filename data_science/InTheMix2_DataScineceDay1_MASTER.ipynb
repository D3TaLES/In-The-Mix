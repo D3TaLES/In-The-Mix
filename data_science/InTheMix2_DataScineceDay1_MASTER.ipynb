{
  "nbformat": 4,
  "nbformat_minor": 0,
  "metadata": {
    "colab": {
      "private_outputs": true,
      "provenance": [],
      "authorship_tag": "ABX9TyNj2WS7DMz0p1Vtkjs3GYgo",
      "include_colab_link": true
    },
    "kernelspec": {
      "name": "python3",
      "display_name": "Python 3"
    },
    "language_info": {
      "name": "python"
    }
  },
  "cells": [
    {
      "cell_type": "markdown",
      "metadata": {
        "id": "view-in-github",
        "colab_type": "text"
      },
      "source": [
        "<a href=\"https://colab.research.google.com/github/D3TaLES/In-The-Mix/blob/main/data_science/InTheMix2_DataScineceDay1_MASTER.ipynb\" target=\"_parent\"><img src=\"https://colab.research.google.com/assets/colab-badge.svg\" alt=\"Open In Colab\"/></a>"
      ]
    },
    {
      "cell_type": "markdown",
      "source": [
        "# What is Machine Learning (ML)? "
      ],
      "metadata": {
        "id": "lIlBgxHDqxOk"
      }
    },
    {
      "cell_type": "markdown",
      "source": [
        "definitions...\n",
        "\n",
        "examples..."
      ],
      "metadata": {
        "id": "ZSVQHSBKq1Cz"
      }
    },
    {
      "cell_type": "markdown",
      "source": [
        "## Why do we need ML for science? And why do we need ML for D<sup>3</sup>TaLES? "
      ],
      "metadata": {
        "id": "LEd-UvrtrBJ4"
      }
    },
    {
      "cell_type": "markdown",
      "source": [],
      "metadata": {
        "id": "GjAGYsBfrJ6i"
      }
    },
    {
      "cell_type": "markdown",
      "source": [
        "## Math Behind ML"
      ],
      "metadata": {
        "id": "26meQPGyq7RH"
      }
    },
    {
      "cell_type": "markdown",
      "source": [
        "Functions\n",
        "\n",
        "Linear algebra"
      ],
      "metadata": {
        "id": "n7NxLH9GrLIk"
      }
    },
    {
      "cell_type": "code",
      "execution_count": null,
      "metadata": {
        "id": "nt5Uyf1Je14G"
      },
      "outputs": [],
      "source": []
    },
    {
      "cell_type": "markdown",
      "source": [
        "# Types of ML"
      ],
      "metadata": {
        "id": "tH2l5aqZrOJc"
      }
    },
    {
      "cell_type": "markdown",
      "source": [
        "## Unsupervised Learning"
      ],
      "metadata": {
        "id": "Kk48iu6NrQyS"
      }
    },
    {
      "cell_type": "code",
      "source": [],
      "metadata": {
        "id": "TjXHIMV8rQJe"
      },
      "execution_count": null,
      "outputs": []
    },
    {
      "cell_type": "markdown",
      "source": [
        "## Supervised Learning"
      ],
      "metadata": {
        "id": "pwJqRmVgrUM0"
      }
    },
    {
      "cell_type": "code",
      "source": [],
      "metadata": {
        "id": "5ryytMVxrWVx"
      },
      "execution_count": null,
      "outputs": []
    },
    {
      "cell_type": "markdown",
      "source": [
        "# Synopsis"
      ],
      "metadata": {
        "id": "iPdoI7hxrbCW"
      }
    },
    {
      "cell_type": "markdown",
      "source": [
        "1. Machine Learning is ...\n",
        "\n",
        "2. ML is need in science because...\n",
        "\n",
        "3. Two of the fundemental types of ML are (1) unsupervised learning and (2) supervised learning. \n",
        "> Unsupervised learning ...\n",
        ">\n",
        "> Supervised learning ...\n"
      ],
      "metadata": {
        "id": "cD1nCUUtrd5f"
      }
    },
    {
      "cell_type": "code",
      "source": [],
      "metadata": {
        "id": "qveKi4Posbg0"
      },
      "execution_count": null,
      "outputs": []
    }
  ]
}