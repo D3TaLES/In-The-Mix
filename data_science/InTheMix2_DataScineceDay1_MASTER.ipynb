{
  "nbformat": 4,
  "nbformat_minor": 0,
  "metadata": {
    "colab": {
      "private_outputs": true,
      "provenance": [],
      "include_colab_link": true
    },
    "kernelspec": {
      "name": "python3",
      "display_name": "Python 3"
    },
    "language_info": {
      "name": "python"
    }
  },
  "cells": [
    {
      "cell_type": "markdown",
      "metadata": {
        "id": "view-in-github",
        "colab_type": "text"
      },
      "source": [
        "<a href=\"https://colab.research.google.com/github/D3TaLES/In-The-Mix/blob/main/data_science/InTheMix2_DataScineceDay1_MASTER.ipynb\" target=\"_parent\"><img src=\"https://colab.research.google.com/assets/colab-badge.svg\" alt=\"Open In Colab\"/></a>"
      ]
    },
    {
      "cell_type": "markdown",
      "source": [
        "**Setup**\n",
        "\n",
        "> Please run the next three cells immediately. These cells installs the necessary packages we will need for this tutorial"
      ],
      "metadata": {
        "id": "lIlBgxHDqxOk"
      }
    },
    {
      "cell_type": "code",
      "source": [
        "#@title Import Packages\n",
        "import numpy as np\n",
        "import pandas as pd\n",
        "import seaborn as sns\n",
        "sns.set_palette('husl')\n",
        "import matplotlib.pyplot as plt\n",
        "%matplotlib inline\n",
        "from numpy import *\n",
        "from numpy.linalg import inv\n",
        "from sklearn import metrics\n",
        "from sklearn.neighbors import KNeighborsClassifier\n",
        "from sklearn.linear_model import LogisticRegression\n",
        "from sklearn.model_selection import train_test_split\n",
        "from sklearn import datasets\n",
        "from sklearn.cluster import KMeans\n",
        "import ipywidgets as widgets\n",
        "import IPython\n",
        "import json\n",
        "from IPython.core.display import display\n",
        "\n",
        "global speaker, talking_speed, text, button_clear, output_clear, button, output\n"
      ],
      "metadata": {
        "id": "dsW2C-6Iml84",
        "cellView": "form"
      },
      "execution_count": null,
      "outputs": []
    },
    {
      "cell_type": "markdown",
      "source": [
        "#**Why Machine Learning?**\n",
        "\n",
        "*   Predictive Modeling: Machine learning algorithms can build predictive models based on large datasets of chemical structures, properties, and reactions. These models can make accurate predictions about various chemical phenomena, such as the stability of molecules, reaction outcomes, toxicity, and material properties.\n",
        "\n",
        "*   Materials Design and Discovery: Machine learning enables the exploration and design of new materials with desired properties. By learning from large databases of materials and their properties, machine learning models can identify patterns and relationships between composition, structure, and properties. This knowledge can be utilized to predict and discover novel materials for applications such as energy storage, catalysis, electronics, and more.\n",
        "\n"
      ],
      "metadata": {
        "id": "NBvzid_XwkEJ"
      }
    },
    {
      "cell_type": "markdown",
      "source": [
        "#**A primer on linear algebra**\n",
        "> Suppose we have the following data for 5 students\n",
        "\n",
        "Student No. |Age | Height | Weight\n",
        "----------- |----|--------|-------\n",
        "1           | 20 |  65.78|  112.99\n",
        "2           | 22 |  71.52 |  136.49\n",
        "3           | 21 |  69.40 |  153.03\n",
        "4           | 21 |  68.22 |  142.34\n",
        "5           | 23 |  67.79 |  144.30\n",
        "\n",
        "##Matrix\n",
        ">A matrix is an array of numbers, symbols, expressions etc arranged in rows and columns. When dealing with data, matrices provide us with the tools to store, represent, modify, transform our data and also perform analysis. Thus it would be safe to assume matrices form the soul of any machine learning algorithm. We will briefly use the numpy package in python to see some examples of matrices.\n",
        "\n",
        "![](https://raw.githubusercontent.com/D3TaLES/In-The-Mix/main/data_science/media/mat.png)\n",
        "\n",
        "\n"
      ],
      "metadata": {
        "id": "LEd-UvrtrBJ4"
      }
    },
    {
      "cell_type": "code",
      "execution_count": null,
      "metadata": {
        "id": "nt5Uyf1Je14G"
      },
      "outputs": [],
      "source": [
        "# We can represent the above data using matrix in python using numpy as\n",
        "\n",
        "d = array([[20, 65.78, 112.99], [22, 71.52, 136.49], [21, 69.40, 153.03], [21, 68.22, 142.34], [23, 67.79, 144.30]])\n",
        "print(d)"
      ]
    },
    {
      "cell_type": "markdown",
      "source": [
        "The above matrix (denoted by M) has 5 rows and 3 columns so the dimension of the matrix will be denoted as $M^{5 × 3}$\n",
        "###Matrix operations\n",
        "\n",
        "\n",
        "\n",
        "\n",
        "\n"
      ],
      "metadata": {
        "id": "EZa5KOY2nIVR"
      }
    },
    {
      "cell_type": "code",
      "source": [
        "# Defining two matrices using numpy\n",
        "m1 = np.array([[2, -7, 5], [-6, 2, 0], [3, 1, 2]])\n",
        "m2 = np.array([[5, 8, -5], [3, 6, 9], [0, -5, 8]])\n",
        "\n",
        "print(\"1st matrix : \\n\", m1)\n",
        "print(\"2nd matrix : \\n\", m2)"
      ],
      "metadata": {
        "id": "5ryytMVxrWVx"
      },
      "execution_count": null,
      "outputs": []
    },
    {
      "cell_type": "markdown",
      "source": [
        "**Matrix Addition**\n",
        ">Suppose we have two matrices $M_1^{a × b}$ and $M_2^{a × b}$. Then the sum of these two matrices will be the sum of each element between the two matrices.\n",
        "\n",
        "![](https://raw.githubusercontent.com/D3TaLES/In-The-Mix/main/data_science/media/matsum.png)"
      ],
      "metadata": {
        "id": "Q7a89ly0ldxq"
      }
    },
    {
      "cell_type": "code",
      "source": [
        "# Matrix addition\n",
        "m_add = np.add(m1, m2)\n",
        "print(\"Sum : \\n\", m_add)"
      ],
      "metadata": {
        "id": "oCRUMFs5nTWx"
      },
      "execution_count": null,
      "outputs": []
    },
    {
      "cell_type": "markdown",
      "source": [
        "**Multiplication by scalar**\n",
        "> Suppose we have a matrix $M^{a × b}$. If we multiply this matrix by a scalar number c, then c will be multiplied with every element of the matrix indivitually.\n",
        "\n",
        "![](https://raw.githubusercontent.com/D3TaLES/In-The-Mix/main/data_science/media/matscalmul.png)"
      ],
      "metadata": {
        "id": "Y0NMnxtXlYOf"
      }
    },
    {
      "cell_type": "code",
      "source": [
        "# Multiplication by scalar\n",
        "c = 5\n",
        "m_sc = c*m1\n",
        "print(\"Matrix m1 multiplied by scalar: \\n\", m_sc)"
      ],
      "metadata": {
        "id": "GVRNimN3ncaB"
      },
      "execution_count": null,
      "outputs": []
    },
    {
      "cell_type": "markdown",
      "source": [
        "**Multiplication of two matrices**\n",
        "> Suppose we have two matrices $M_1^{a × b}$ and $M_2^{b × c}$. Then when taking the product of these two matrices each row of $M_1$ will be multiplied with the corresponding with the corresponding column of $M_2$. Hence first row of $M_1$ will be multiplied by first column of $M_2$, second row of $M_1$ will be multiplied by second column of $M_2$ and so on. The resultant matrix will be of dimension $a \\times c$.\n",
        "\n",
        "![](https://raw.githubusercontent.com/D3TaLES/In-The-Mix/main/data_science/media/matmul.png)"
      ],
      "metadata": {
        "id": "sbb1flXglQyZ"
      }
    },
    {
      "cell_type": "code",
      "source": [
        "#@title Run cell to see matrices multiplied...\n",
        "from IPython.display import Image\n",
        "Image(url='https://www.mscroggs.co.uk/img/full/multiply_matrices.gif')"
      ],
      "metadata": {
        "id": "8OBjYSTWlj9u",
        "cellView": "form"
      },
      "execution_count": null,
      "outputs": []
    },
    {
      "cell_type": "code",
      "source": [
        "# Multiplication of two matrices\n",
        "m_mult = np.matmul(m1, m2)\n",
        "print(\"Product of m1 and m2 is: \\n\" ,m_mult)"
      ],
      "metadata": {
        "id": "n0_3DPvLngxX"
      },
      "execution_count": null,
      "outputs": []
    },
    {
      "cell_type": "markdown",
      "source": [
        "**Inverse of a matrix**\n",
        "> Suppose we have a matrix $M^{a × a}$. Then the inverse of $M$ is a matrix $N$ such that if M and N are multiplied the result is an identity matrix (A matrix whose diagonal elements are 1 and other elements are 0). We will explore this in detail in the next cells."
      ],
      "metadata": {
        "id": "CFohyjs6lJEf"
      }
    },
    {
      "cell_type": "code",
      "source": [
        "# Inverse of a matrix\n",
        "m_inv = inv(m1)\n",
        "print(\"The inverse of m1 is: \\n\", m_inv)"
      ],
      "metadata": {
        "id": "cq1wPL6mnlBE"
      },
      "execution_count": null,
      "outputs": []
    },
    {
      "cell_type": "markdown",
      "source": [
        "#**Towards machine learning!**\n",
        "\n",
        "\n",
        "*“What we want is a machine that can learn from experience..” — Alan Turing*\n",
        "\n",
        "> * One of the biggest resources available to human's today is data. Recently we have learned to tap into this huge resource which has resulted in some amazing feats never seen before.\n",
        "> * The concept of machine goes back to mid 1950's when researchers were looking to create intelligent machines but relied on explicit programming knowledge and rules which made it difficult to scale. This is when they began exploring the idea of teaching machines to learn from data without being explicitly programmed.\n",
        "> * In the years that followed, many new statistical and mathematical methods like regression, classification, decision theory, random forest etc were developed which helped harness useful information from data that is necessary for machines to learn.\n",
        "> * In the last two to three decades, as computers became more powerful and access to bigger and better computing capabilities became available, the power of the statistical algorithms became multi-fold and enabled creation of better concepts and algorithms which helped machines become more smart and powerful in learning from data.\n",
        "> * Some recent marvels of artificial intelligence include [ChatGPT](https://openai.com/blog/chatgpt) which is a chatbot that can interact with its user essentially like a human does. It understands nuances of human conversation and performs conversation accordingly.\n",
        "> * Broadly speaking machine learning provides us resources to understand and analyze data and derive meaningfull representations from it.\n",
        "\n"
      ],
      "metadata": {
        "id": "yMwpSgYmntp3"
      }
    },
    {
      "cell_type": "markdown",
      "source": [
        "\n",
        "\n",
        "\n",
        "> Machine learning can be broadly classified into three types depending on the task at hand and the data being used. They are:\n",
        "1.   Supervised Learning\n",
        "2.   Unsupervised Learning\n",
        "3.   Reinforcement Learning\n",
        "\n",
        "We'll cover the first two today. Let's learn about them through an example.\n",
        "For reference we will use the iris dataset present in the scikit package in python.\n",
        "\n",
        "\n",
        "![](https://raw.githubusercontent.com/D3TaLES/In-The-Mix/main/data_science/media/ml_taxanomy.png)\n",
        "\n"
      ],
      "metadata": {
        "id": "8Vi2D_3Rn5G3"
      }
    },
    {
      "cell_type": "markdown",
      "source": [
        "\n",
        "\n",
        "Hit run on the cell below to load the data and get a peak at it."
      ],
      "metadata": {
        "id": "sq1HqmnMgIPT"
      }
    },
    {
      "cell_type": "code",
      "source": [
        "#@title\n",
        "iris = datasets.load_iris()\n",
        "data = pd.DataFrame(data= np.c_[iris['data'], iris['target']], columns= iris['feature_names'] + ['target'])\n",
        "data['target'] = data['target'].replace(0, 'Iris-setosa')\n",
        "data['target'] = data['target'].replace(1, 'Iris-versicolor')\n",
        "data['target'] = data['target'].replace(2, 'Iris-virginica')\n",
        "data.rename(columns = {'target': 'Species'}, inplace = True)\n",
        "X = data.drop(['Species'], axis=1)\n",
        "y = data['Species']\n",
        "X_train, X_test, y_train, y_test = train_test_split(X, y, test_size=0.1, random_state=5)\n",
        "data.head()"
      ],
      "metadata": {
        "id": "q53ppHpooMVA",
        "cellView": "form"
      },
      "execution_count": null,
      "outputs": []
    },
    {
      "cell_type": "markdown",
      "source": [
        "The above dataset contains values of four features (length and width of sepals and petals) of three species of Iris (Iris setosa, Iris virginica and Iris versicolor).\n",
        "\n",
        "Let us take a visual look at this dataset. Hit run on the next module."
      ],
      "metadata": {
        "id": "68PYMPKYoTKv"
      }
    },
    {
      "cell_type": "code",
      "source": [
        "# Plot data\n",
        "sns.pairplot(data, hue = 'Species', diag_kind='hist', markers=[\"o\", \"s\", \"D\"], height=3)"
      ],
      "metadata": {
        "id": "WOpCqMT5oYT6"
      },
      "execution_count": null,
      "outputs": []
    },
    {
      "cell_type": "markdown",
      "source": [
        "Now that we have our sample data let us use this to understand ***supervised*** and ***unsupervised*** learning."
      ],
      "metadata": {
        "id": "cXl4DSDXon5M"
      }
    },
    {
      "cell_type": "markdown",
      "source": [
        "\n",
        "###**Supervised Learning**\n",
        "![](https://raw.githubusercontent.com/D3TaLES/In-The-Mix/main/data_science/media/supervised1.png)\n",
        "\n",
        "Photo source:\n",
        "[Iris douglasiana, ](https://gardenerspath.com/wp-content/uploads/2023/03/Purple-Iris-Flower-Growing-in-the-Garden.jpg)\n",
        "[Iris cristata, ](https://en.wikipedia.org/wiki/Iris_cristata#/media/File:Iris_cristata_(2).jpg)\n",
        "[Iris tectorum](https://en.wikipedia.org/wiki/Iris_(plant)#/media/File:Iris_tectorum_-_flower_view_01.jpg)\n",
        "\n",
        "\n",
        "This form of machine learning involves those problems where the task at hand requires a fully labeled dataset. The models in this case use the labels as ground truth to learn and update themselves.\n",
        "\n",
        "Suppose we have a task at hand where we have to use the Iris dataset to build a model which takes in input the petal length, petal width, sepal length and sepal width of a flower and predicts which species that particular flower is.\n",
        "\n",
        "The data that will be used to model in this (the Iris data) has the ground truth, aka the column 'Species'. The model will use this ground truth to train itself by analyzing how much error it is producing as compared with the ground truth. The ground truth provides the model with the necessary 'supervision.\n",
        "\n",
        "One such supervised learning method is known as [logistic regression](https://machinelearningmastery.com/logistic-regression-tutorial-for-machine-learning/). Let us use this method to create our model.\n",
        "\n",
        "Hit run on the next module to create our model using the Iris data.\n",
        "\n"
      ],
      "metadata": {
        "id": "ZfcyDomros7d"
      }
    },
    {
      "cell_type": "code",
      "source": [
        "#@title\n",
        "logreg = LogisticRegression()\n",
        "logreg.fit(X_train, y_train)"
      ],
      "metadata": {
        "cellView": "form",
        "id": "trYzuHgyoxza"
      },
      "execution_count": null,
      "outputs": []
    },
    {
      "cell_type": "markdown",
      "source": [
        "Now suppose we have 15 new flowers whose sepal length, sepal width, petal length and petal width are given.\n",
        "\n",
        "Hit run on the next module to take a look at the data"
      ],
      "metadata": {
        "id": "WqDLzdfpo4xV"
      }
    },
    {
      "cell_type": "code",
      "source": [
        "#@title\n",
        "X_test"
      ],
      "metadata": {
        "id": "wsK5geZ5o-l3",
        "cellView": "form"
      },
      "execution_count": null,
      "outputs": []
    },
    {
      "cell_type": "markdown",
      "source": [
        "Now let us use our model to predict the species of these 15 flowers!\n",
        "\n",
        "Hit run in the next module. This will perform the prediction for these 15 flowers and display the results."
      ],
      "metadata": {
        "id": "OmitK6POpEY2"
      }
    },
    {
      "cell_type": "code",
      "source": [
        "#@title\n",
        "y_pred = logreg.predict(X_test)\n",
        "pd.DataFrame({'Actual Species':y_test, 'Predicted Species': y_pred}, columns=['Actual Species', 'Predicted Species'])"
      ],
      "metadata": {
        "cellView": "form",
        "id": "Weta_hgUpJGi"
      },
      "execution_count": null,
      "outputs": []
    },
    {
      "cell_type": "markdown",
      "source": [
        "**Let us now see a cool real life example of supervised learning!**\n",
        "\n",
        "In farming one of the biggest challenges are dealing with pests. Farmers often have to rely heavily on pesticides to reduce damage from pests. Different form of pests require different form of treatement so its very important to know what kind of pest infestation is under study.\n",
        "\n",
        "Thus if there can be a mechanism which can give this information readily to farmers that will benefit the farming community profoundly.\n",
        "\n",
        "[This application]( https://insectapp.las.iastate.edu) can identify insects based on a simple photo. We will try the app with this [photo](https://raw.githubusercontent.com/hjy77/inthemix/main/bug.png).\n",
        "\n",
        "The model behind this application is a supervised one and is build on a large database of insects.\n",
        "\n",
        "This tool was developed by Dr Aarti Singh's group and Dr Baskar Ganapathysubramanian's group at Iowa State University."
      ],
      "metadata": {
        "id": "LeTzTuZspOLn"
      }
    },
    {
      "cell_type": "markdown",
      "source": [
        "##**Unsupervised Learning**\n",
        "![](https://raw.githubusercontent.com/D3TaLES/In-The-Mix/main/data_science/media/unsupervised.png)\n",
        "[Photo source](https://blog.floydhub.com/introduction-to-k-means-clustering-in-python-with-scikit-learn/)\n",
        "\n",
        "In unsupervised learning the data being dealt with does not have predefined labels. Thus the data here often lacks information (a ground truth element) about the specific desired outcome. In this case unsupervised ML methods attempts to find structure in the data by extracting important features and then analyzing them.\n",
        "\n",
        "Putting this in terms of the iris data the scenario is\n",
        "  >We have the sepal length, sepal width, petal length and petal width of 50 flowers. Suppose our task is to determine how many species of flowers are present in our data. Then this task boils down to finding the numer of groups (or clusters) in the data.\n",
        "\n",
        "Let us consider the iris dataset again but this time let's assume that we do not have the information on species.\n",
        "\n",
        ">Note that in the current scenario we do not have the labels on which species each flower belongs to. This means there is no supervisory feature that can help us determine the different groups present in the datset. We have to figure out the number of groups (species) without the supervisory variable. This problem is hence called a unsupervised learning problem."
      ],
      "metadata": {
        "id": "sGCUb6WfpVZX"
      }
    },
    {
      "cell_type": "code",
      "source": [
        "#@title\n",
        "#X1 = X\n",
        "#X1.head()\n",
        "sns.pairplot(data, diag_kind='hist')"
      ],
      "metadata": {
        "id": "9oVaHHTvpOVG",
        "cellView": "form"
      },
      "execution_count": null,
      "outputs": []
    },
    {
      "cell_type": "markdown",
      "source": [
        "The visual analysis here is important as it gives us a plausible idea regarding the number of groups.\n",
        "> But how can we be sure that our visual analysis is giving us the right number of groups? Also how can we find out these groups?\n",
        "\n",
        "This is essentially a problem of 'clustering' an unsupervised method which finds the optimum groups in a given data.\n",
        "\n",
        "A popular algorithm to perform clustering is called k-means algorithm. The idea simple idea algorithm is\n",
        "> The 'k' in k-means refers to the number of groups you want to partition your data into. Thus if we plug in k=2, we have a 2-means algorithm which will find out 2 groups in your data. Here k can be chosen by the user.\n",
        "\n",
        "Let us apply this k-means algorithm for k=2,3,4 into our data and see what kind of groups we get.\n",
        "\n"
      ],
      "metadata": {
        "id": "tgmz9TDjpnvA"
      }
    },
    {
      "cell_type": "code",
      "source": [
        "#@title Fitting the k-means model\n",
        "kmeans2 = KMeans(n_clusters = 2, init = 'k-means++', max_iter = 300, n_init = 10, random_state = 0)\n",
        "kmeans3 = KMeans(n_clusters = 3, init = 'k-means++', max_iter = 300, n_init = 10, random_state = 0)\n",
        "kmeans4 = KMeans(n_clusters = 4, init = 'k-means++', max_iter = 300, n_init = 10, random_state = 0)\n",
        "y_kmeans2 = kmeans2.fit_predict(X)\n",
        "y_kmeans3 = kmeans3.fit_predict(X)\n",
        "y_kmeans4 = kmeans4.fit_predict(X)\n",
        "\n",
        "X['Determine Species 2'] = y_kmeans2\n",
        "X['Determine Species 3'] = y_kmeans3\n",
        "X['Determine Species 4'] = y_kmeans4\n",
        "\n",
        "#X1['Determine Species'] = X1['Determine Species'].replace(0, 'Iris-setosa')\n",
        "#X1['Determine Species'] = X['Determine Species'].replace(1, 'Iris-versicolor')\n",
        "X"
      ],
      "metadata": {
        "id": "jNSFndTHps4-",
        "cellView": "form"
      },
      "execution_count": null,
      "outputs": []
    },
    {
      "cell_type": "code",
      "source": [
        "#@title Clustering results for k=2\n",
        "sns.pairplot(X.iloc[:,[0,1,2,3,4]], hue = 'Determine Species 2', markers=[\"o\", \"s\"], diag_kind='hist')"
      ],
      "metadata": {
        "id": "_PnG0EmSpxzf",
        "cellView": "form"
      },
      "execution_count": null,
      "outputs": []
    },
    {
      "cell_type": "code",
      "source": [
        "#@title Clustering results for k=3\n",
        "sns.pairplot(X.iloc[:,[0,1,2,3,5]], hue = 'Determine Species 3', markers=[\"o\", \"s\", \"D\"], diag_kind='hist')"
      ],
      "metadata": {
        "id": "xWXHwGvBeKRF",
        "cellView": "form"
      },
      "execution_count": null,
      "outputs": []
    },
    {
      "cell_type": "code",
      "source": [
        "#@title Clustering results for k=4\n",
        "sns.pairplot(X.iloc[:,[0,1,2,3,6]], hue = 'Determine Species 4', markers=[\"o\", \"s\", \"D\", \"P\"], diag_kind='hist')"
      ],
      "metadata": {
        "id": "KBgSUr8teUKB",
        "cellView": "form"
      },
      "execution_count": null,
      "outputs": []
    },
    {
      "cell_type": "markdown",
      "source": [
        "Visual analysis can indicate that all three clustering solutions are correct.\n",
        "> But how do we know which solution is actually correct?\n",
        "\n",
        "This can be accomplished using various techniques such as jump statistic, silhouette width etc. We won't go into details about how these methods work but for this analysis jump statistic has indicated that the optimum number of groups is 3."
      ],
      "metadata": {
        "id": "YvLMhiFtelNZ"
      }
    },
    {
      "cell_type": "markdown",
      "source": [
        "# Real life application of k-means\n",
        "\n",
        "Suppose we have been given 100,000 documents and our task is to find out which documents are similar and can form a group. In this scenario reading each document becomes impractical.\n",
        "\n",
        "In this scenario unsupervised machine learning can determine which documents form a group and can perform the segregation effortlessly.\n",
        "\n",
        "This [link](https://www.kaggle.com/code/aybukehamideak/clustering-text-documents-using-k-means) contains details of how document clustering can be performed using k-means."
      ],
      "metadata": {
        "id": "q9jqcjIGp5d5"
      }
    },
    {
      "cell_type": "markdown",
      "source": [
        "# Synopsis"
      ],
      "metadata": {
        "id": "iPdoI7hxrbCW"
      }
    },
    {
      "cell_type": "markdown",
      "source": [
        "1. Machine Learning provides us with efficient ways to find hidden information within data to understand real life scenarios.\n",
        "\n",
        "2. Redox flow batteries find very important applications in energy storage and form an area of active research. Data collected from these batteries through sensors and other ways can be analyzed efficiently using machine learning methods that can help in design of efficient energy storage soultions.\n",
        "\n",
        "3. Two of the fundemental types of ML are (1) supervised learning and (2) unsupervised learning.\n",
        "> Supervised learning makes use of ground truth to create models that can help us perform predictions for future scenario's.\n",
        ">\n",
        "> Unsupervised learning tries to infer meaningfull representations from the data without the use of ground truth.\n"
      ],
      "metadata": {
        "id": "cD1nCUUtrd5f"
      }
    },
    {
      "cell_type": "markdown",
      "source": [
        "Copyright 2021-2023, University of Kentucky and Iowa State University\n",
        "\n",
        "Designed by Souradeep Chattopadhyay, Chih-Hsuan Yang, Hsin-Jung Yang, and Rebekah Duke"
      ],
      "metadata": {
        "id": "lGqb3Da1Gm-3"
      }
    },
    {
      "cell_type": "code",
      "source": [],
      "metadata": {
        "id": "tscsNDitMGvQ"
      },
      "execution_count": null,
      "outputs": []
    }
  ]
}