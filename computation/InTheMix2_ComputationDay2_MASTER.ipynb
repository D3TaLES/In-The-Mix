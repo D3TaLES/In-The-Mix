{
  "nbformat": 4,
  "nbformat_minor": 0,
  "metadata": {
    "colab": {
      "provenance": [],
      "private_outputs": true,
      "include_colab_link": true
    },
    "kernelspec": {
      "name": "python3",
      "display_name": "Python 3"
    },
    "language_info": {
      "name": "python"
    },
    "gpuClass": "standard"
  },
  "cells": [
    {
      "cell_type": "markdown",
      "metadata": {
        "id": "view-in-github",
        "colab_type": "text"
      },
      "source": [
        "<a href=\"https://colab.research.google.com/github/D3TaLES/In-The-Mix/blob/main/computation/InTheMix2_ComputationDay2_MASTER.ipynb\" target=\"_parent\"><img src=\"https://colab.research.google.com/assets/colab-badge.svg\" alt=\"Open In Colab\"/></a>"
      ]
    },
    {
      "cell_type": "markdown",
      "source": [
        "# Welcome to In the Mix: Computation Day 2!"
      ],
      "metadata": {
        "id": "ig-LBKpSH-Sg"
      }
    },
    {
      "cell_type": "markdown",
      "source": [
        "##**Recap**\n",
        "1. **Types of DFT calculations**: Recall the three types of DFT calculations that we discussed yesterday.\n",
        "\n",
        "![](https://raw.githubusercontent.com/D3TaLES/In-The-Mix/main/computation/media/dft_calculations.png)\n",
        "\n",
        "2. **Oxidation Potentials**: Ideal redox flow batteries have a high oxidation potential for the catholyte and a low reduction potential for the analyte. Because of this, it is important to be able to calculate the oxidation and reduction potentials for a potential redox flow battery material.\n",
        "\n",
        "![](https://raw.githubusercontent.com/D3TaLES/In-The-Mix/main/computation/media/redox_flow_battery.png)\n",
        "\n"
      ],
      "metadata": {
        "id": "31lnYxTdhwKZ"
      }
    },
    {
      "cell_type": "markdown",
      "source": [
        "## Computation of standard reduction potentials"
      ],
      "metadata": {
        "id": "MUwpyH4LGDDA"
      }
    },
    {
      "cell_type": "markdown",
      "source": [
        "### Theory\n",
        "This material is adapted from the [MolSSI Quantum Mechanics Tools workshop](https://education.molssi.org/qm-tools/05-redox/index.html)."
      ],
      "metadata": {
        "id": "c0G1p1TrxGIZ"
      }
    },
    {
      "cell_type": "markdown",
      "source": [
        "For a molecule to be a candidate for battery application, it needs to store energy by gaining and loosing electrons during charge-discharge process. The measure of the ease with which a molecule will gain or lose electrons in solution is termed reduction potential. In order to apply computational chemistry to find candidate molecules for batteries, being able to compute reduction potentials for molecular species is incredibly important.\n",
        "\n",
        "In order to compute a reduction potential, it is important to understand the basic physical principles of this quantity. For example, take this half-reaction that involves the benzoquinone molecule:\n",
        "\n",
        "![](https://raw.githubusercontent.com/D3TaLES/In-The-Mix/main/computation/media/quinone_reduction.png)\n",
        "\n",
        "\n",
        "The reduction potential is related to the Gibbs free energy of the half reaction as:\n",
        "\n",
        "![](https://raw.githubusercontent.com/D3TaLES/In-The-Mix/main/computation/media/redox_potential_eqn.png)\n",
        "\n",
        "Here, Eº is the reduction potential corresponding to the quantity that the experiment measures. This is the potential (voltage) of an electrode surface where reactant and product are in equilibrium. More negative potentials correspond to higher energy electrons needed to reduce the reactant.\n",
        "\n",
        "∆G<sub>red</sub> is the free energy change of the reduction half-reaction in solution, where the electron comes from the vacuum, and the molecules are in solution. n is the number of electrons transferred (in our case, n = 1) and F is the Faraday constant; its value is exactly 1 eV/V and serves to convert units of energy (in eV) into units of potential (V).\n",
        "\n",
        "The electrons in the experiment do not come from vacuum, but from an electrode whose potential is measured relative to a reference electrode. We choose to use the normal hydrogen electrode as a reference, where the energy of the electrons is –4.43 V relative to the vacuum, thus we subtract this value from our answer.\n",
        "\n",
        "Now that we have seen the physical principles, we would like to obtain computationally and this would allow us to predict a reduction potential.The Gibbs free energy of reduction, and can be computed as a free energy difference:\n",
        "\n",
        "∆G<sub>red</sub> = G(A–) – G(A)\n",
        "\n",
        "where G(●) is the Gibbs free energy of a species in solution. Computationally, this is broken down into several contributions:\n",
        "$$ G = E_{SCF} + \\Delta G_{solv} + H - TS $$\n",
        "\n",
        "The first two terms and represent the ground-state electronic energy plus the solvation free energy term. These two terms are computed together as the ground-state energy when running a Psi4 energy calculation in implicit solvent. The equilibrium (minimum energy) structure should be used, but you don’t necessarily need to use implicit solvent, or even the same functional or basis set to perform the minimization, as long as you remain consistent for the oxidized and reduced species.\n",
        "\n",
        "The calculation of ∆G<sub>red</sub> can be visualized with the following Born-Haber cycle diagram:\n",
        "\n",
        "![](https://raw.githubusercontent.com/D3TaLES/In-The-Mix/main/computation/media/BornHaber.png)\n",
        "\n",
        "H – TS represent the enthalpy and entropy terms in the Gibbs free energy. We will approximate these terms by treating the molecule as having three translational and three rotational degrees of freedom, and represent all of the internal motions using harmonic oscillators. The translational contributions to H and S come from known formulas for the ideal gas, the rotational contributions use a rigid rotor approximation that takes information from the molecular geometry, and the vibrational contribution requires a harmonic frequency calculation (including the zero point vibration). The frequency analysis calculation in Psi4 provides all of this information.\n",
        "\n",
        "Summary of the calculation procedure\n",
        "In summary, here are the steps for computing the reduction potential:\n",
        "\n",
        "\n",
        "\n",
        "*   For the neutral molecule, follow these steps to compute the Gibbs free energy:\n",
        "  1.   Calculate an energy minimized structure.\n",
        "  2.   Calculate the harmonic free energy correction at the energy minimized structure.\n",
        "  3.   Calculate the ground state energy plus ∆Gsolv from implicit solvent.\n",
        "  4.   Add the results from (2) and (3) to get the free energy of the species.\n",
        "*   Repeat the above steps for the anion radical.\n",
        "*   Calculate ∆G<sub>red</sub> = G(A–) – G(A). This should be a negative number because most molecules in solvent are able to accommodate an additional electron.\n",
        "*   Convert this energy to eV by multiplying your quantity (in a.u.) by 27.211.\n",
        "*   Multiply by –1 and subtract 4.43 to obtain the reduction potential w/r.t. NHE.\n",
        "\n",
        "\n",
        "In this exercise, we will study neutral benzoquinone and the benzoquinone anion to calculate the reduction potential."
      ],
      "metadata": {
        "id": "AyYqpkLFPNGD"
      }
    },
    {
      "cell_type": "markdown",
      "source": [
        "### Setup"
      ],
      "metadata": {
        "id": "O7-vlj3tH0wx"
      }
    },
    {
      "cell_type": "code",
      "execution_count": null,
      "metadata": {
        "id": "GvhNLfpCaU3v",
        "cellView": "form"
      },
      "outputs": [],
      "source": [
        "#@markdown Import needed modules\n",
        "import os\n",
        "import json\n",
        "import copy\n",
        "import warnings\n",
        "import hashlib\n",
        "import requests\n",
        "import pandas as pd\n",
        "from scipy import stats\n",
        "from pathlib import Path\n",
        "import matplotlib.pyplot as plt\n",
        "from sklearn.metrics import mean_squared_error, r2_score"
      ]
    },
    {
      "cell_type": "code",
      "source": [
        "#@markdown Class for Pulling Data from D3TaLES Database\n",
        "# REST API class\n",
        "\n",
        "USERNAME = 'd3tales.edu@gmail.com'\n",
        "PASSWORD = 'D3education'\n",
        "\n",
        "class RESTAPI(object):\n",
        "    def __init__(self, method=None, url=\"https://d3tales.as.uky.edu\", endpoint=None,\n",
        "                 login_endpoint='login', username=USERNAME, password=PASSWORD,\n",
        "                 upload_file=None, params=None, expected_endpoint=None, return_json=False):\n",
        "        \"\"\"\n",
        "        Upload a file to through d3tales.as.uky.edu file upload feature.\n",
        "\n",
        "        :param method: str, html method (such as post or get)\n",
        "        :param url: str, base url\n",
        "        :param endpoint: str, post or get endpoint url (not containing base url)\n",
        "        :param login_endpoint: str, login url (not containing base url)\n",
        "        :param username: str, user username\n",
        "        :param password: str, user password\n",
        "        :param upload_file: str, path to file to be uploaded\n",
        "        :param params: dict, form parameters for post\n",
        "        :param return_json: bool, get or post method returns json if true\n",
        "        \"\"\"\n",
        "        self.method = method\n",
        "        self.endpoint = \"{}/{}/\".format(url, endpoint).replace(\"//\", \"/\").replace(':/', '://')\n",
        "        self.login_endpoint = \"{}/{}/\".format(url, login_endpoint).replace(\"//\", \"/\").replace(':/', '://')\n",
        "        if expected_endpoint:\n",
        "            self.expected_endpoint = \"{}/{}/\".format(url, expected_endpoint).replace(\"//\", \"/\").replace(':/', '://')\n",
        "        self.user_data = dict(username=username, password=password) if username and password else None\n",
        "\n",
        "        self.client = self.get_client()\n",
        "        params.update(dict(csrfmiddlewaretoken=self.csrftoken, next='/')) if params else {}\n",
        "        self.params = params or {}\n",
        "        self.upload_file = upload_file\n",
        "        self.return_json = return_json\n",
        "\n",
        "        if self.method in [\"get\", \"GET\", \"Get\"]:\n",
        "            self.response = self.get_process()\n",
        "\n",
        "        elif self.method in [\"POST\", \"post\", \"Post\"]:\n",
        "            self.response = self.post_process()\n",
        "\n",
        "        if expected_endpoint:\n",
        "            if self.response.request.url != self.expected_endpoint:\n",
        "                warnings.warn(\"The {} response url for {} to {} did not match the expected response url\".format(\n",
        "                    self.upload_file, self.endpoint, self.method))\n",
        "\n",
        "    @property\n",
        "    def cookies(self):\n",
        "        return self.client.get(self.endpoint).cookies  # sets cookie\n",
        "\n",
        "    @property\n",
        "    def csrftoken(self):\n",
        "        # Retrieve the CSRF token for data post\n",
        "        return self.cookies['csrftoken'] if 'csrftoken' in self.cookies else self.cookies['csrf']\n",
        "\n",
        "    def get_client(self):\n",
        "        with requests.Session() as client:\n",
        "            if self.login_endpoint and self.user_data:\n",
        "                # Login\n",
        "                client.get(self.login_endpoint)  # sets cookie\n",
        "                csrftoken = client.cookies['csrftoken'] if 'csrftoken' in client.cookies else client.cookies['csrf']\n",
        "                self.user_data.update(dict(csrfmiddlewaretoken=csrftoken, next='/'))\n",
        "                # Submit login form\n",
        "                req = client.post(self.login_endpoint, data=self.user_data, headers=dict(Referer=self.login_endpoint))\n",
        "            return client\n",
        "\n",
        "    def post_process(self):\n",
        "        # Submit data form\n",
        "        file_data = dict(file=open(self.upload_file, 'rb')) if self.upload_file else None\n",
        "        req = self.client.post(self.endpoint, data=self.params, files=file_data,\n",
        "                               headers=dict(Referer=self.endpoint), cookies=self.cookies)\n",
        "        return_data = req.json() if self.return_json else req\n",
        "        return return_data\n",
        "\n",
        "    def get_process(self):\n",
        "        if self.params:\n",
        "            req = self.client.get(self.endpoint, data=self.params, headers=dict(Referer=self.endpoint), cookies=self.cookies)\n",
        "        else:\n",
        "            req = self.client.get(self.endpoint, headers=dict(Referer=self.endpoint))\n",
        "\n",
        "        return_data = req.json() if self.return_json else req\n",
        "        return return_data\n"
      ],
      "metadata": {
        "id": "0_dIjSCocrlc",
        "cellView": "form"
      },
      "execution_count": null,
      "outputs": []
    },
    {
      "cell_type": "code",
      "source": [
        "#@markdown Functions for pulling reduction potential data from D3TaLES database\n",
        "def get_calculation_value(data_list, calculation_type, prop_name):\n",
        "  data = [d for d in data_list if d.get(\"calculation_type\") == calculation_type][0]\n",
        "  return data.get('data', {}).get(prop_name, {}).get('value')\n",
        "\n",
        "def get_oxidation_data(_id):\n",
        "  response = RESTAPI(method='get', endpoint=\"restapi/molecules/_id={}/mol_characterization.redox_potential=1/\".format(_id),\n",
        "                      url=\"https://d3tales.as.uky.edu\", login_endpoint='login',\n",
        "                      return_json=True).response[0]\n",
        "  hash_ids = response.get(\"redox_potential\")[0].get(\"source_hash_ids\")\n",
        "  data_list = []\n",
        "  for hash_id in hash_ids:\n",
        "    hash_response = RESTAPI(method='get', endpoint=\"restapi/rawdata/computation/_id=\"+hash_id,\n",
        "                          url=\"https://d3tales.as.uky.edu\", login_endpoint='login',\n",
        "                          return_json=True).response[0]\n",
        "    data_list.append(hash_response)\n",
        "\n",
        "  data_dict =  {'neutral_energy_gas': get_calculation_value(data_list, \"opt_groundState\", \"scf_total_energy\"),\n",
        "          'neutral_energy_solv': get_calculation_value(data_list, \"solv_energy_gsgs\", \"scf_total_energy\"),\n",
        "          'neutral_correction': get_calculation_value(data_list, \"freq_groundState\", \"gibbs_correction\"),\n",
        "          'cation_energy_gas': get_calculation_value(data_list, \"opt_cation1\", \"scf_total_energy\"),\n",
        "          'cation_energy_solv': get_calculation_value(data_list, \"solv_energy_c1c1\", \"scf_total_energy\"),\n",
        "          'cation_correction': get_calculation_value(data_list, \"freq_cation1\", \"gibbs_correction\"),\n",
        "        }\n",
        "  return pd.Series(data_dict, name=_id)\n",
        "\n",
        "def get_reduction_data(_id):\n",
        "  data_list = RESTAPI(method='get', endpoint=\"restapi/rawdata/computation/mol_id=\"+_id,\n",
        "                      url=\"https://d3tales.as.uky.edu\", login_endpoint='login',\n",
        "                      return_json=True).response\n",
        "\n",
        "  data_dict =  {'neutral_energy_gas': get_calculation_value(data_list, \"opt_groundState\", \"scf_total_energy\"),\n",
        "          'neutral_energy_solv': get_calculation_value(data_list, \"solv_energy_gsgs\", \"scf_total_energy\"),\n",
        "          'neutral_correction': get_calculation_value(data_list, \"freq_groundState\", \"gibbs_correction\"),\n",
        "          'anion_energy_gas': get_calculation_value(data_list, \"opt_anion1\", \"scf_total_energy\"),\n",
        "          'anion_energy_solv': get_calculation_value(data_list, \"solv_energy_a1a1\", \"scf_total_energy\"),\n",
        "          'anion_correction': get_calculation_value(data_list, \"freq_anion1\", \"gibbs_correction\"),\n",
        "        }\n",
        "  return pd.Series(data_dict, name=_id)"
      ],
      "metadata": {
        "id": "NC1bj6ksve5q",
        "cellView": "form"
      },
      "execution_count": null,
      "outputs": []
    },
    {
      "cell_type": "markdown",
      "source": [
        "### Hands On Calculations"
      ],
      "metadata": {
        "id": "F1L3bvCpxLDT"
      }
    },
    {
      "cell_type": "markdown",
      "source": [
        "∆G<sub>red</sub> = G(A–) – G(A)\n",
        "\n",
        "where\n",
        "G(A) = **Minimized E (gas)** + **Free energy correction (gas)** +\t + **Delta G Solvation**"
      ],
      "metadata": {
        "id": "60yuLiYhhTnl"
      }
    },
    {
      "cell_type": "code",
      "source": [
        "# Pull computational data for benzoquinone\n",
        "data = get_reduction_data(\"80WQZA\")\n",
        "data"
      ],
      "metadata": {
        "id": "CjsoHzlzz_nC"
      },
      "execution_count": null,
      "outputs": []
    },
    {
      "cell_type": "code",
      "source": [
        "# How to access data\n",
        "print(\"Neutral energy (gas): \\t\", data.neutral_energy_gas)\n",
        "print(\"Anion energy (solv): \\t\", data.anion_energy_solv)"
      ],
      "metadata": {
        "id": "9Pf57g8y3dY9"
      },
      "execution_count": null,
      "outputs": []
    },
    {
      "cell_type": "code",
      "source": [
        "# computing free energy for neural species\n",
        "neutral_free_energy = 0 # write your equation here"
      ],
      "metadata": {
        "id": "i1Tz8aetjZ2e"
      },
      "execution_count": null,
      "outputs": []
    },
    {
      "cell_type": "code",
      "source": [
        "#@markdown SOLUTION\n",
        "neutral_free_energy = data.neutral_energy_gas + data.neutral_correction + (data.neutral_energy_solv - data.neutral_energy_gas)"
      ],
      "metadata": {
        "cellView": "form",
        "id": "wN_Ea2MJyTyF"
      },
      "execution_count": null,
      "outputs": []
    },
    {
      "cell_type": "code",
      "source": [
        "# computing free energy for anionic (-1) species\n",
        "anion_free_energy = 0 # write your equation here"
      ],
      "metadata": {
        "id": "_Zi8k5pIjZ0X"
      },
      "execution_count": null,
      "outputs": []
    },
    {
      "cell_type": "code",
      "source": [
        "#@markdown SOLUTION\n",
        "anion_free_energy = data.anion_energy_gas + data.anion_correction + (data.anion_energy_solv - data.anion_energy_gas)"
      ],
      "metadata": {
        "cellView": "form",
        "id": "LhjQKNUOynL7"
      },
      "execution_count": null,
      "outputs": []
    },
    {
      "cell_type": "code",
      "source": [
        "# redox potential\n",
        "redox_potential = 0 # write your equation here"
      ],
      "metadata": {
        "id": "xO9-YOh3jZyJ"
      },
      "execution_count": null,
      "outputs": []
    },
    {
      "cell_type": "code",
      "source": [
        "#@markdown SOLUTION\n",
        "redox_potential = -(anion_free_energy - neutral_free_energy) / 1 - 4.43"
      ],
      "metadata": {
        "cellView": "form",
        "id": "wz_wcKg3ynQK"
      },
      "execution_count": null,
      "outputs": []
    },
    {
      "cell_type": "code",
      "source": [
        "print(redox_potential)"
      ],
      "metadata": {
        "id": "feoov5LHyw6a"
      },
      "execution_count": null,
      "outputs": []
    },
    {
      "cell_type": "markdown",
      "source": [
        "### Compare Redox Potentials of multiple quinones"
      ],
      "metadata": {
        "id": "xSYIa9cjixJf"
      }
    },
    {
      "cell_type": "code",
      "source": [
        "#@markdown Write a function for reduction potential\n",
        "def get_redox_potential(_id, number_electrons=1, she_potential=4.43):\n",
        "  data = get_reduction_data(_id)\n",
        "  neutral_free_energy = data.neutral_energy_gas + data.neutral_correction + (data.neutral_energy_solv - data.neutral_energy_gas)\n",
        "  anion_free_energy = data.anion_energy_gas + data.anion_correction + (data.anion_energy_solv - data.anion_energy_gas)\n",
        "  redox_potential = -(anion_free_energy - neutral_free_energy) / number_electrons - she_potential\n",
        "  return redox_potential"
      ],
      "metadata": {
        "id": "3Zv_cbI7urZO",
        "cellView": "form"
      },
      "execution_count": null,
      "outputs": []
    },
    {
      "cell_type": "code",
      "source": [
        "quinones_ids = {'benzoquinone': '80WQZA',  'naphthoquinone': '80JNKV',  'duroquinone': '06OSYU'}\n",
        "\n",
        "rp_benzoquinone = get_redox_potential('80WQZA')\n",
        "rp_naphthoquinone = get_redox_potential('80JNKV')\n",
        "rp_duroquinone = get_redox_potential('06OSYU')\n",
        "\n",
        "print(\"rp_benzoquinone: \\t\", rp_benzoquinone)\n",
        "print(\"rp_naphthoquinone: \\t\", rp_naphthoquinone)\n",
        "print(\"rp_duroquinone: \\t\", rp_duroquinone)"
      ],
      "metadata": {
        "id": "C7-vRbv3jZm1"
      },
      "execution_count": null,
      "outputs": []
    },
    {
      "cell_type": "code",
      "source": [
        "#@markdown Compare calculated reduction potentials with experimental. Enter YOUR experimental results!\n",
        "rp_benzoquinone_exp = -0.5 #@param {type: \"number\"}\n",
        "rp_naphthoquinone_exp = -0.7 #@param {type: \"number\"}\n",
        "rp_duroquinonee_exp = -0.8 #@param {type: \"number\"}\n",
        "\n",
        "# Plot computational vs experimental\n",
        "import matplotlib.pyplot as plt\n",
        "plt.scatter([rp_benzoquinone_exp, rp_naphthoquinone, rp_duroquinone],\n",
        "            [rp_benzoquinone, rp_naphthoquinone, rp_duroquinone])\n",
        "xpoints = ypoints = plt.xlim()\n",
        "plt.plot(xpoints, ypoints, color='gray')\n",
        "plt.xlabel(\"Experimental Potential\")\n",
        "plt.ylabel(\"Computational Potential\")\n"
      ],
      "metadata": {
        "id": "dx8aVV9-fdWy",
        "cellView": "form"
      },
      "execution_count": null,
      "outputs": []
    },
    {
      "cell_type": "markdown",
      "source": [
        "#### Try it Yourself!\n",
        "You can find the molecule ID for molecules in the D<sup>3</sup>TaLES database by searching the D<sup>3</sup>TaLES [Database website](https://d3tales.as.uky.edu/database/search_results/)!"
      ],
      "metadata": {
        "id": "I8DoBF4SV2EM"
      }
    },
    {
      "cell_type": "code",
      "source": [
        "# Feel free to use this cell to try getting the computed redox potentials for other molecules\n"
      ],
      "metadata": {
        "id": "uXxRPrVOV23I"
      },
      "execution_count": null,
      "outputs": []
    },
    {
      "cell_type": "markdown",
      "source": [
        "## Big Data Analysis"
      ],
      "metadata": {
        "id": "-SdZ_Oi3jauO"
      }
    },
    {
      "cell_type": "code",
      "source": [
        "#@title Functions for Processing Pulled Data from D3TaLES Database\n",
        "def get_prop(prop=\"oxidation_potential\", limit=500, get_smiles=False):\n",
        "  query = \"mol_characterization.\" + prop + \"==true/mol_info.smiles=1&mol_characterization.\" + prop + \"=1/limit=\" + str(limit)\n",
        "  print(\"Collecting mol data through REST API...\")\n",
        "  response = RESTAPI(method='get', endpoint=\"restapi/molecules/\"+query,\n",
        "                      url=\"https://d3tales.as.uky.edu\", login_endpoint='login',\n",
        "                      return_json=True).response\n",
        "  comp_data = pd.DataFrame(response)\n",
        "  get_value = lambda c: c.get(prop).get(\"value\")\n",
        "  if get_smiles:\n",
        "    comp_data['smiles'] = comp_data.mol_info.apply(lambda c: c.get(\"smiles\"))\n",
        "  comp_data[prop] = comp_data.mol_characterization.apply(get_value)\n",
        "  comp_data\n",
        "\n",
        "  comp_data.set_index(comp_data._id, inplace=True)\n",
        "  comp_data.drop(['_id', 'mol_info', 'mol_characterization' ], axis=1, inplace=True)\n",
        "\n",
        "  return comp_data\n",
        "\n",
        "def get_mos(species='opt_groundState', limit=500, get_smiles=False):\n",
        "  query = f\"species_characterization.{species}.homo==true/mol_info.smiles=1&species_characterization=1/limit={limit}\"\n",
        "  print(\"Collecting species data through REST API...\")\n",
        "  response = RESTAPI(method='get', endpoint=\"restapi/molecules/\"+query,\n",
        "                      url=\"https://d3tales.as.uky.edu\", login_endpoint='login',\n",
        "                      return_json=True).response\n",
        "  all_data = pd.DataFrame(response)\n",
        "  if get_smiles:\n",
        "    all_data['smiles'] = all_data.mol_info.apply(lambda c: c.get(\"smiles\"))\n",
        "  all_data[\"homo\"] = all_data.species_characterization.apply(lambda c: c.get(species, {}).get(\"homo\", {}).get(\"value\"))\n",
        "  all_data[\"lumo\"] = all_data.species_characterization.apply(lambda c: c.get(species, {}).get(\"lumo\", {}).get(\"value\"))\n",
        "  all_data\n",
        "\n",
        "  all_data.set_index(all_data._id, inplace=True)\n",
        "  comp_data = all_data[['homo', 'lumo']]\n",
        "\n",
        "  return comp_data"
      ],
      "metadata": {
        "id": "oQWkp9q_J4ui",
        "cellView": "form"
      },
      "execution_count": null,
      "outputs": []
    },
    {
      "cell_type": "code",
      "source": [
        "# Get molecular orbitals (HOMOs and LUMOs) form backend DB\n",
        "mo_df = get_mos(species=\"groundState\", limit=500)\n",
        "# Get oxidation potentials from frontend DB\n",
        "redox_df = get_prop(prop=\"oxidation_potential\", limit=500)\n",
        "\n",
        "# Merge two dataframes by molecular id (indexes)\n",
        "master_df = pd.merge(mo_df, redox_df, left_index=True, right_index=True)\n",
        "master_df"
      ],
      "metadata": {
        "id": "v1fFO22RjZjl"
      },
      "execution_count": null,
      "outputs": []
    },
    {
      "cell_type": "markdown",
      "source": [
        "\n",
        "\n",
        "The Born-Haber cycle describes the change in energy as a molecule undergoes a redox reaction, which can be either a reduction or an oxidation reaction. <br />\n",
        "In this section, we will be focusing on just oxidation reactions.\n",
        "\n",
        "$\\Delta G_{soln, ox}$ = $\\Delta G_{gas}^{\\circ}$  + $\\Delta G_{ox, soln}^{\\circ}$ - $\\Delta G_{red, soln}^{\\circ}$<br />\n",
        "\n",
        "The $\\Delta G_{ox, soln}^{\\circ}$ term is well-correlated with the HOMO energy of a molecule due to Koopmans' Theorem - which states that the oxidation potential is equal to the negative value of the HOMO energy of a molecule.<br />\n",
        "\n",
        "So, this implies that the oxidation potential is related to the HOMO energy of the molecule, but due to the $\\Delta G_{gas}^{\\circ}$  and the $\\Delta G_{red, soln}^{\\circ}$ terms, this is not an exact correlation. <br /><br />\n"
      ],
      "metadata": {
        "id": "AeZ7YZZkURWX"
      }
    },
    {
      "cell_type": "code",
      "source": [
        "#@markdown In the graph below, we're looking at the relationship between the HOMO energy values and oxidation potential.\n",
        "\n",
        "x_data = 'homo'\n",
        "y_data = 'oxidation_potential'\n",
        "\n",
        "fig, ax = plt.subplots(1, figsize=(5,5), facecolor='w')\n",
        "ax.scatter(-master_df[x_data], master_df[y_data])\n",
        "ax.set_title('', fontsize=20)\n",
        "ax.set_xlabel(x_data, fontsize=14)\n",
        "ax.set_ylabel(y_data, fontsize=14)\n",
        "ax.axis('equal')\n",
        "r2_value = stats.linregress(master_df[x_data], master_df[y_data])[2] **2\n",
        "mse = mean_squared_error(master_df[x_data], master_df[y_data])\n",
        "ax.text(0.05, 0.95, \"$R^2$ Value: {:.4f}\".format(r2_value), transform=ax.transAxes, fontsize=12)\n",
        "ax.text(0.05, 0.9, \"MSE: {:.4f}\".format(mse), transform=ax.transAxes, fontsize=12)\n",
        "ax.set_xlim(plt.xlim())\n",
        "ax.set_ylim(plt.ylim())\n",
        "# Plot reference line\n",
        "ax.plot([-1000,1000], [-1000, 1000], 'k')"
      ],
      "metadata": {
        "id": "qmJ03CLZyl9d",
        "cellView": "form"
      },
      "execution_count": null,
      "outputs": []
    },
    {
      "cell_type": "markdown",
      "source": [
        "There is a linear correlation between these two values, but the $r^2$ value is reduced by the outliers.  <br /><br />\n",
        "\n",
        "So, from these outliers, it can be infered that the $\\Delta G_{gas}^{\\circ}$  and the $\\Delta G_{red, soln}^{\\circ}$ terms can cause the oxidation potential of a molecule to be much different than the negative of that molecule's HOMO energy value.<br /><br />\n",
        "\n",
        "While understanding the relationship between HOMO energy and oxidation potential is fairly straightfoward, there are also non-linear relationship that also have an effect on the HOMO energy and the oxidation potential relationship. For instance there are many properties - such as ring size, ring type, molecular weight, atom type, etc. - that play a role in redox potential.\n",
        "\n",
        "In these cases, machine learning can be used to illustrate the relationship between data and features.\n",
        "\n"
      ],
      "metadata": {
        "id": "m1rTjSJLT1NH"
      }
    },
    {
      "cell_type": "markdown",
      "source": [
        "# **Synopsis**"
      ],
      "metadata": {
        "id": "w3okkICuveoE"
      }
    },
    {
      "cell_type": "markdown",
      "source": [
        "## **1. Calculate redox potential with the Born-Haber cycle**\n",
        "\n",
        "![](https://raw.githubusercontent.com/D3TaLES/In-The-Mix/main/computation/media/BornHaber.png)\n",
        "\n",
        "![](https://raw.githubusercontent.com/D3TaLES/In-The-Mix/main/computation/media/redox_potential_eqn.png)\n",
        "\n",
        "\n",
        "Computationally, calculating the redox potential would look like:\n",
        "```\n",
        "neutral_free_energy = neutral_energy_gas + neutral_correction + (neutral_energy_solv - neutral_energy_gas)\n",
        "anion_free_energy = anion_energy_gas + anion_correction + (anion_energy_solv - anion_energy_gas)\n",
        "redox_potential = -(anion_free_energy - neutral_free_energy) / 1 - 4.43\n",
        "\n",
        "```\n",
        "\n",
        "\n",
        "## **2. Compare calculated with experimentally measured reduction potentials**\n",
        "\n",
        "\n",
        "## **3. View big data trends between E<sup>&deg;</sup><sub>ox</sub> and HOMO**\n",
        "This relationship is generally linear, but not perfect. So, we still need more acurate methods for estimating redox potential (like computation and machine learning)."
      ],
      "metadata": {
        "id": "TvYcMn-wp1td"
      }
    },
    {
      "cell_type": "markdown",
      "source": [
        "Copyright 2021-2023, University of Kentucky and University of Iowa\n",
        "\n",
        "Designed by Rebekah Duke and Amelia Sweet"
      ],
      "metadata": {
        "id": "KaXteH2vcMpF"
      }
    },
    {
      "cell_type": "code",
      "source": [],
      "metadata": {
        "id": "1zlGi01_UUdd"
      },
      "execution_count": null,
      "outputs": []
    }
  ]
}