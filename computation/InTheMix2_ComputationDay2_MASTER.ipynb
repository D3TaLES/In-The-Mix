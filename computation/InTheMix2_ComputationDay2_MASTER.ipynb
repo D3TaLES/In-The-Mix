{
  "nbformat": 4,
  "nbformat_minor": 0,
  "metadata": {
    "colab": {
      "provenance": [],
      "collapsed_sections": [
        "O7-vlj3tH0wx"
      ],
      "include_colab_link": true
    },
    "kernelspec": {
      "name": "python3",
      "display_name": "Python 3"
    },
    "language_info": {
      "name": "python"
    }
  },
  "cells": [
    {
      "cell_type": "markdown",
      "metadata": {
        "id": "view-in-github",
        "colab_type": "text"
      },
      "source": [
        "<a href=\"https://colab.research.google.com/github/D3TaLES/In-The-Mix/blob/main/computation/InTheMix2_ComputationDay2_MASTER.ipynb\" target=\"_parent\"><img src=\"https://colab.research.google.com/assets/colab-badge.svg\" alt=\"Open In Colab\"/></a>"
      ]
    },
    {
      "cell_type": "markdown",
      "source": [
        "# Welcome to In the Mix: Computation Day 2! "
      ],
      "metadata": {
        "id": "ig-LBKpSH-Sg"
      }
    },
    {
      "cell_type": "markdown",
      "source": [
        "##**Recap**\n",
        "1. **Types of DFT calculations**: Recall the three types of DFT calculations that we discussed yesterday. \n",
        "\n",
        "![](https://drive.google.com/uc?id=1p_GcfJeN8dUkMQHef1Yb9QWPKchpnFTa)\n",
        "\n",
        "2. **Oxidation Potentials**: Ideal redox flow batteries have a high oxidation potential for the catholyte and a low reduction potential for the analyte. Because of this, it is important to be able to calculate the oxidation and reduction potentials for a potential redox flow battery material. \n",
        "\n",
        "![](https://drive.google.com/uc?id=1bm3LO-JQH7VF8xyCgdjmzJr-OI_T5_I_)\n",
        "\n"
      ],
      "metadata": {
        "id": "31lnYxTdhwKZ"
      }
    },
    {
      "cell_type": "markdown",
      "source": [
        "## Setup"
      ],
      "metadata": {
        "id": "O7-vlj3tH0wx"
      }
    },
    {
      "cell_type": "code",
      "execution_count": null,
      "metadata": {
        "id": "GvhNLfpCaU3v",
        "cellView": "form"
      },
      "outputs": [],
      "source": [
        "#@markdown Import needed modules\n",
        "import os\n",
        "import json\n",
        "import copy\n",
        "import warnings\n",
        "import hashlib\n",
        "import requests\n",
        "import pandas as pd\n",
        "from scipy import stats\n",
        "from pathlib import Path\n",
        "import matplotlib.pyplot as plt\n",
        "from sklearn.metrics import mean_squared_error, r2_score"
      ]
    },
    {
      "cell_type": "code",
      "source": [
        "#@markdown Class for Pulling Data from D3TaLES Database\n",
        "# REST API class\n",
        "\n",
        "USERNAME = 'd3tales.edu@gmail.com'\n",
        "PASSWORD = 'D3education'\n",
        "\n",
        "class RESTAPI(object):\n",
        "    def __init__(self, method=None, url=\"https://d3tales.as.uky.edu\", endpoint=None,\n",
        "                 login_endpoint='login', username=USERNAME, password=PASSWORD,\n",
        "                 upload_file=None, params=None, expected_endpoint=None, return_json=False):\n",
        "        \"\"\"\n",
        "        Upload a file to through d3tales.as.uky.edu file upload feature.\n",
        "\n",
        "        :param method: str, html method (such as post or get)\n",
        "        :param url: str, base url\n",
        "        :param endpoint: str, post or get endpoint url (not containing base url)\n",
        "        :param login_endpoint: str, login url (not containing base url)\n",
        "        :param username: str, user username\n",
        "        :param password: str, user password\n",
        "        :param upload_file: str, path to file to be uploaded\n",
        "        :param params: dict, form parameters for post\n",
        "        :param return_json: bool, get or post method returns json if true\n",
        "        \"\"\"\n",
        "        self.method = method\n",
        "        self.endpoint = \"{}/{}/\".format(url, endpoint).replace(\"//\", \"/\").replace(':/', '://')\n",
        "        self.login_endpoint = \"{}/{}/\".format(url, login_endpoint).replace(\"//\", \"/\").replace(':/', '://')\n",
        "        if expected_endpoint:\n",
        "            self.expected_endpoint = \"{}/{}/\".format(url, expected_endpoint).replace(\"//\", \"/\").replace(':/', '://')\n",
        "        self.user_data = dict(username=username, password=password) if username and password else None\n",
        "        \n",
        "        self.client = self.get_client()\n",
        "        params.update(dict(csrfmiddlewaretoken=self.csrftoken, next='/')) if params else {}\n",
        "        self.params = params or {}\n",
        "        self.upload_file = upload_file\n",
        "        self.return_json = return_json\n",
        "\n",
        "        if self.method in [\"get\", \"GET\", \"Get\"]:\n",
        "            self.response = self.get_process()\n",
        "\n",
        "        elif self.method in [\"POST\", \"post\", \"Post\"]:\n",
        "            self.response = self.post_process()\n",
        "\n",
        "        if expected_endpoint:\n",
        "            if self.response.request.url != self.expected_endpoint:\n",
        "                warnings.warn(\"The {} response url for {} to {} did not match the expected response url\".format(\n",
        "                    self.upload_file, self.endpoint, self.method))\n",
        "        \n",
        "    @property\n",
        "    def cookies(self):\n",
        "        return self.client.get(self.endpoint).cookies  # sets cookie\n",
        "\n",
        "    @property\n",
        "    def csrftoken(self):\n",
        "        # Retrieve the CSRF token for data post\n",
        "        return self.cookies['csrftoken'] if 'csrftoken' in self.cookies else self.cookies['csrf']\n",
        "\n",
        "    def get_client(self):\n",
        "        with requests.Session() as client:\n",
        "            if self.login_endpoint and self.user_data:\n",
        "                # Login\n",
        "                client.get(self.login_endpoint)  # sets cookie\n",
        "                csrftoken = client.cookies['csrftoken'] if 'csrftoken' in client.cookies else client.cookies['csrf']\n",
        "                self.user_data.update(dict(csrfmiddlewaretoken=csrftoken, next='/'))\n",
        "                # Submit login form\n",
        "                req = client.post(self.login_endpoint, data=self.user_data, headers=dict(Referer=self.login_endpoint))\n",
        "            return client\n",
        "\n",
        "    def post_process(self):\n",
        "        # Submit data form\n",
        "        file_data = dict(file=open(self.upload_file, 'rb')) if self.upload_file else None\n",
        "        req = self.client.post(self.endpoint, data=self.params, files=file_data,\n",
        "                               headers=dict(Referer=self.endpoint), cookies=self.cookies)\n",
        "        return_data = req.json() if self.return_json else req\n",
        "        return return_data\n",
        "\n",
        "    def get_process(self):\n",
        "        if self.params:\n",
        "            req = self.client.get(self.endpoint, data=self.params, headers=dict(Referer=self.endpoint), cookies=self.cookies)\n",
        "        else:\n",
        "            req = self.client.get(self.endpoint, headers=dict(Referer=self.endpoint))\n",
        "\n",
        "        return_data = req.json() if self.return_json else req\n",
        "        return return_data\n"
      ],
      "metadata": {
        "id": "0_dIjSCocrlc",
        "cellView": "form"
      },
      "execution_count": null,
      "outputs": []
    },
    {
      "cell_type": "markdown",
      "source": [
        "## Computation of standard reduction potentials "
      ],
      "metadata": {
        "id": "MUwpyH4LGDDA"
      }
    },
    {
      "cell_type": "markdown",
      "source": [
        "### Theory\n",
        "This material is adapted from the [MolSSI Quantum Mechanics Tools workshop](https://education.molssi.org/qm-tools/05-redox/index.html)."
      ],
      "metadata": {
        "id": "c0G1p1TrxGIZ"
      }
    },
    {
      "cell_type": "markdown",
      "source": [
        "For a molecule to be a candidate for battery application, it needs to store energy by gaining and loosing electrons during charge-discharge process. The measure of the ease with which a molecule will gain or lose electrons in solution is termed reduction potential. In order to apply computational chemistry to find candidate molecules for batteries, being able to compute reduction potentials for molecular species is incredibly important.\n",
        "\n",
        "In order to compute a reduction potential, it is important to understand the basic physical principles of this quantity. For example, take this half-reaction that involves the benzoquinone molecule:\n",
        "\n",
        "![](https://drive.google.com/uc?id=1o9N_Wus5Zo-S_PWYEa2XqiX-Vw9uxt6j)\n",
        "\n",
        "\n",
        "The reduction potential is related to the Gibbs free energy of the half reaction as:\n",
        "\n",
        "![](https://drive.google.com/uc?id=1PlJjWelyUz48-MMIJCtr0kqI-ESqRuk2)\n",
        "\n",
        "Here, Eº is the reduction potential corresponding to the quantity that the experiment measures. This is the potential (voltage) of an electrode surface where reactant and product are in equilibrium. More negative potentials correspond to higher energy electrons needed to reduce the reactant.\n",
        "\n",
        "∆G<sub>red</sub> is the free energy change of the reduction half-reaction in solution, where the electron comes from the vacuum, and the molecules are in solution. n is the number of electrons transferred (in our case, n = 1) and F is the Faraday constant; its value is exactly 1 eV/V and serves to convert units of energy (in eV) into units of potential (V).\n",
        "\n",
        "The electrons in the experiment do not come from vacuum, but from an electrode whose potential is measured relative to a reference electrode. We choose to use the normal hydrogen electrode as a reference, where the energy of the electrons is –4.43 V relative to the vacuum, thus we subtract this value from our answer.\n",
        "\n",
        "Now that we have seen the physical principles, we would like to obtain computationally and this would allow us to predict a reduction potential.The Gibbs free energy of reduction, and can be computed as a free energy difference: \n",
        "\n",
        "∆G<sub>red</sub> = G(A–) – G(A)\n",
        "\n",
        "where G(●) is the Gibbs free energy of a species in solution. Computationally, this is broken down into several contributions:\n",
        "$$ G = E_{SCF} + \\Delta G_{solv} + H - TS $$\n",
        "\n",
        "The first two terms and represent the ground-state electronic energy plus the solvation free energy term. These two terms are computed together as the ground-state energy when running a Psi4 energy calculation in implicit solvent. The equilibrium (minimum energy) structure should be used, but you don’t necessarily need to use implicit solvent, or even the same functional or basis set to perform the minimization, as long as you remain consistent for the oxidized and reduced species.\n",
        "\n",
        "The calculation of ∆G<sub>red</sub> can be visualized with the following Born-Haber cycle diagram: \n",
        "\n",
        "![](https://drive.google.com/uc?id=1-KtcQjjuTwx3c7tZrqjrLHkrcVX3kiKz)\n",
        "\n",
        "H – TS represent the enthalpy and entropy terms in the Gibbs free energy. We will approximate these terms by treating the molecule as having three translational and three rotational degrees of freedom, and represent all of the internal motions using harmonic oscillators. The translational contributions to H and S come from known formulas for the ideal gas, the rotational contributions use a rigid rotor approximation that takes information from the molecular geometry, and the vibrational contribution requires a harmonic frequency calculation (including the zero point vibration). The frequency analysis calculation in Psi4 provides all of this information.\n",
        "\n",
        "Summary of the calculation procedure\n",
        "In summary, here are the steps for computing the reduction potential:\n",
        "\n",
        "\n",
        "\n",
        "*   For the neutral molecule, follow these steps to compute the Gibbs free energy:\n",
        "  1.   Calculate an energy minimized structure.\n",
        "  2.   Calculate the harmonic free energy correction at the energy minimized structure.\n",
        "  3.   Calculate the ground state energy plus ∆Gsolv from implicit solvent.\n",
        "  4.   Add the results from (2) and (3) to get the free energy of the species.\n",
        "*   Repeat the above steps for the anion radical.\n",
        "*   Calculate ∆G<sub>red</sub> = G(A–) – G(A). This should be a negative number because most molecules in solvent are able to accommodate an additional electron.\n",
        "*   Convert this energy to eV by multiplying your quantity (in a.u.) by 27.211.\n",
        "*   Multiply by –1 and subtract 4.43 to obtain the reduction potential w/r.t. NHE.\n",
        "\n",
        "\n",
        "In this exercise, we will study neutral benzoquinone and the benzoquinone anion to calculate the reduction potential."
      ],
      "metadata": {
        "id": "AyYqpkLFPNGD"
      }
    },
    {
      "cell_type": "markdown",
      "source": [
        "### Hands On Calculations"
      ],
      "metadata": {
        "id": "F1L3bvCpxLDT"
      }
    },
    {
      "cell_type": "code",
      "source": [
        "#@markdown Functions for pulling reduction potential data from D3TaLES database\n",
        "def get_calculation_value(data_list, calculation_type, prop_name): \n",
        "  data = [d for d in data_list if d.get(\"calculation_type\") == calculation_type][0]\n",
        "  return data.get('data', {}).get(prop_name, {}).get('value')\n",
        "\n",
        "def get_oxidation_data(_id):\n",
        "  response = RESTAPI(method='get', endpoint=\"restapi/molecules/_id={}/mol_characterization.redox_potential=1/\".format(_id),\n",
        "                      url=\"https://d3tales.as.uky.edu\", login_endpoint='login',\n",
        "                      return_json=True).response[0]\n",
        "  hash_ids = response.get(\"redox_potential\")[0].get(\"source_hash_ids\")\n",
        "  data_list = []\n",
        "  for hash_id in hash_ids: \n",
        "    hash_response = RESTAPI(method='get', endpoint=\"restapi/rawdata/computation/_id=\"+hash_id, \n",
        "                          url=\"https://d3tales.as.uky.edu\", login_endpoint='login', \n",
        "                          return_json=True).response[0]\n",
        "    data_list.append(hash_response)\n",
        "\n",
        "  data_dict =  {'neutral_energy_gas': get_calculation_value(data_list, \"opt_groundState\", \"scf_total_energy\"), \n",
        "          'neutral_energy_solv': get_calculation_value(data_list, \"solv_energy_gsgs\", \"scf_total_energy\"), \n",
        "          'neutral_correction': get_calculation_value(data_list, \"freq_groundState\", \"gibbs_correction\"), \n",
        "          'cation_energy_gas': get_calculation_value(data_list, \"opt_cation1\", \"scf_total_energy\"), \n",
        "          'cation_energy_solv': get_calculation_value(data_list, \"solv_energy_c1c1\", \"scf_total_energy\"), \n",
        "          'cation_correction': get_calculation_value(data_list, \"freq_cation1\", \"gibbs_correction\"), \n",
        "        }\n",
        "  return pd.Series(data_dict, name=_id)\n",
        "\n",
        "def get_reduction_data(_id):\n",
        "  data_list = RESTAPI(method='get', endpoint=\"restapi/rawdata/computation/mol_id=\"+_id, \n",
        "                      url=\"https://d3tales.as.uky.edu\", login_endpoint='login', \n",
        "                      return_json=True).response\n",
        "\n",
        "  data_dict =  {'neutral_energy_gas': get_calculation_value(data_list, \"opt_groundState\", \"scf_total_energy\"), \n",
        "          'neutral_energy_solv': get_calculation_value(data_list, \"solv_energy_gsgs\", \"scf_total_energy\"), \n",
        "          'neutral_correction': get_calculation_value(data_list, \"freq_groundState\", \"gibbs_correction\"), \n",
        "          'anion_energy_gas': get_calculation_value(data_list, \"opt_anion1\", \"scf_total_energy\"), \n",
        "          'anion_energy_solv': get_calculation_value(data_list, \"solv_energy_a1a1\", \"scf_total_energy\"), \n",
        "          'anion_correction': get_calculation_value(data_list, \"freq_anion1\", \"gibbs_correction\"), \n",
        "        }\n",
        "  return pd.Series(data_dict, name=_id)"
      ],
      "metadata": {
        "id": "NC1bj6ksve5q",
        "cellView": "form"
      },
      "execution_count": null,
      "outputs": []
    },
    {
      "cell_type": "markdown",
      "source": [
        "∆G<sub>red</sub> = G(A–) – G(A)\n",
        "\n",
        "where \n",
        "G(A) = **Minimized E (gas)** + **Free energy correction (gas)** +\t + **Delta G Solvation**"
      ],
      "metadata": {
        "id": "60yuLiYhhTnl"
      }
    },
    {
      "cell_type": "code",
      "source": [
        "# Pull computational data for benzoquinone\n",
        "data = get_reduction_data(\"80WQZA\")\n",
        "data"
      ],
      "metadata": {
        "colab": {
          "base_uri": "https://localhost:8080/"
        },
        "id": "CjsoHzlzz_nC",
        "outputId": "d5be45db-0eae-460c-f0ed-d460e598f162"
      },
      "execution_count": null,
      "outputs": [
        {
          "output_type": "execute_result",
          "data": {
            "text/plain": [
              "neutral_energy_gas    -10365.118819\n",
              "neutral_energy_solv   -10365.319482\n",
              "neutral_correction         1.555866\n",
              "anion_energy_gas      -10366.919873\n",
              "anion_energy_solv     -10369.170794\n",
              "anion_correction           1.503212\n",
              "Name: 80WQZA, dtype: float64"
            ]
          },
          "metadata": {},
          "execution_count": 7
        }
      ]
    },
    {
      "cell_type": "code",
      "source": [
        "# How to access data\n",
        "print(\"Neutral energy (gas): \\t\", data.neutral_energy_gas)\n",
        "print(\"Anion energy (solv): \\t\", data.anion_energy_solv)"
      ],
      "metadata": {
        "colab": {
          "base_uri": "https://localhost:8080/"
        },
        "id": "9Pf57g8y3dY9",
        "outputId": "071cf5da-ec90-4bbb-98cc-2def66d58f92"
      },
      "execution_count": null,
      "outputs": [
        {
          "output_type": "stream",
          "name": "stdout",
          "text": [
            "Neutral energy (gas): \t -10365.118818898596\n",
            "Anion energy (solv): \t -10369.170793505189\n"
          ]
        }
      ]
    },
    {
      "cell_type": "code",
      "source": [
        "# computing free energy for neural species\n",
        "neutral_free_energy = 0 # write your equation here"
      ],
      "metadata": {
        "id": "i1Tz8aetjZ2e"
      },
      "execution_count": null,
      "outputs": []
    },
    {
      "cell_type": "code",
      "source": [
        "#@markdown SOLUTION\n",
        "neutral_free_energy = data.neutral_energy_gas + data.neutral_correction + (data.neutral_energy_solv - data.neutral_energy_gas)"
      ],
      "metadata": {
        "cellView": "form",
        "id": "wN_Ea2MJyTyF"
      },
      "execution_count": null,
      "outputs": []
    },
    {
      "cell_type": "code",
      "source": [
        "# computing free energy for anionic (-1) species\n",
        "anion_free_energy = 0 # write your equation here"
      ],
      "metadata": {
        "id": "_Zi8k5pIjZ0X"
      },
      "execution_count": null,
      "outputs": []
    },
    {
      "cell_type": "code",
      "source": [
        "#@markdown SOLUTION\n",
        "anion_free_energy = data.anion_energy_gas + data.anion_correction + (data.anion_energy_solv - data.anion_energy_gas)"
      ],
      "metadata": {
        "cellView": "form",
        "id": "LhjQKNUOynL7"
      },
      "execution_count": null,
      "outputs": []
    },
    {
      "cell_type": "code",
      "source": [
        "# redox potential\n",
        "redox_potential = 0 # write your equation here"
      ],
      "metadata": {
        "id": "xO9-YOh3jZyJ"
      },
      "execution_count": null,
      "outputs": []
    },
    {
      "cell_type": "code",
      "source": [
        "#@markdown SOLUTION\n",
        "redox_potential = -(anion_free_energy - neutral_free_energy) / 1 - 4.43"
      ],
      "metadata": {
        "cellView": "form",
        "id": "wz_wcKg3ynQK"
      },
      "execution_count": null,
      "outputs": []
    },
    {
      "cell_type": "code",
      "source": [
        "print(redox_potential)"
      ],
      "metadata": {
        "colab": {
          "base_uri": "https://localhost:8080/"
        },
        "id": "feoov5LHyw6a",
        "outputId": "bfd285d5-c0f8-45bf-c2ff-e13943d9ed2d"
      },
      "execution_count": null,
      "outputs": [
        {
          "output_type": "stream",
          "name": "stdout",
          "text": [
            "-0.5260345382627563\n"
          ]
        }
      ]
    },
    {
      "cell_type": "markdown",
      "source": [
        "### Compare Redox Potentials of multiple quinones "
      ],
      "metadata": {
        "id": "xSYIa9cjixJf"
      }
    },
    {
      "cell_type": "code",
      "source": [
        "#@markdown Write function for reduction potential\n",
        "def get_redox_potential(_id, number_electrons=1): \n",
        "  data = get_reduction_data(_id)\n",
        "  neutral_free_energy = data.neutral_energy_gas + data.neutral_correction + (data.neutral_energy_solv - data.neutral_energy_gas)\n",
        "  anion_free_energy = data.anion_energy_gas + data.anion_correction + (data.anion_energy_solv - data.anion_energy_gas)\n",
        "  redox_potential = -(anion_free_energy - neutral_free_energy) / number_electrons - 4.43\n",
        "  return redox_potential"
      ],
      "metadata": {
        "id": "3Zv_cbI7urZO",
        "cellView": "form"
      },
      "execution_count": null,
      "outputs": []
    },
    {
      "cell_type": "code",
      "source": [
        "quinones_ids = {'benzoquinone': '80WQZA',  'naphthoquinone': '80JNKV',  'duroquinone': '06OSYU'}\n",
        "\n",
        "rp_benzoquinone = get_redox_potential('80WQZA')\n",
        "rp_naphthoquinone = get_redox_potential('80JNKV')\n",
        "rp_duroquinone = get_redox_potential('06OSYU')\n",
        "\n",
        "print(\"rp_benzoquinone: \\t\", rp_benzoquinone)\n",
        "print(\"rp_naphthoquinone: \\t\", rp_naphthoquinone)\n",
        "print(\"rp_duroquinone: \\t\", rp_duroquinone)"
      ],
      "metadata": {
        "id": "C7-vRbv3jZm1",
        "colab": {
          "base_uri": "https://localhost:8080/"
        },
        "outputId": "e2c3f6e3-09d8-46ad-b9fb-2909336e0824"
      },
      "execution_count": null,
      "outputs": [
        {
          "output_type": "stream",
          "name": "stdout",
          "text": [
            "rp_benzoquinone: \t -0.5260345382627563\n",
            "rp_naphthoquinone: \t -0.753495964221365\n",
            "rp_duroquinone: \t -0.8967416718730234\n"
          ]
        }
      ]
    },
    {
      "cell_type": "code",
      "source": [
        "#@markdown Compare calculated reduction potentials with experimental. Enter YOUR experimental results!\n",
        "rp_benzoquinone_exp = -0.5 #@param {type: \"number\"}\n",
        "rp_naphthoquinone_exp = -0.7 #@param {type: \"number\"}\n",
        "rp_duroquinonee_exp = -0.8 #@param {type: \"number\"}\n",
        "\n",
        "# Plot computational vs experimental \n",
        "import matplotlib.pyplot as plt\n",
        "plt.scatter([rp_benzoquinone_exp, rp_naphthoquinone, rp_duroquinone], \n",
        "            [rp_benzoquinone, rp_naphthoquinone, rp_duroquinone])\n",
        "xpoints = ypoints = plt.xlim()\n",
        "plt.plot(xpoints, ypoints, color='gray')\n",
        "plt.xlabel(\"Experimental Potential\")\n",
        "plt.ylabel(\"Computational Potential\")\n"
      ],
      "metadata": {
        "colab": {
          "base_uri": "https://localhost:8080/",
          "height": 296
        },
        "id": "dx8aVV9-fdWy",
        "outputId": "1e4fb3e1-515d-44ea-857b-c682ac4cd010"
      },
      "execution_count": null,
      "outputs": [
        {
          "output_type": "execute_result",
          "data": {
            "text/plain": [
              "Text(0, 0.5, 'Computational Potential')"
            ]
          },
          "metadata": {},
          "execution_count": 18
        },
        {
          "output_type": "display_data",
          "data": {
            "text/plain": [
              "<Figure size 432x288 with 1 Axes>"
            ],
            "image/png": "[encoded data removed]"
          },
          "metadata": {
            "needs_background": "light"
          }
        }
      ]
    },
    {
      "cell_type": "markdown",
      "source": [
        "### Try it Yourself! \n",
        "You can find the molecule ID for molecules in the D<sup>3</sup>TaLES database by searching the D<sup>3</sup>TaLES [Database website](https://d3tales.as.uky.edu/database/search_results/)!"
      ],
      "metadata": {
        "id": "I8DoBF4SV2EM"
      }
    },
    {
      "cell_type": "code",
      "source": [
        "# Feel free to use this cell to try getting the computed redox potentials for other molecules\n"
      ],
      "metadata": {
        "id": "uXxRPrVOV23I"
      },
      "execution_count": null,
      "outputs": []
    },
    {
      "cell_type": "markdown",
      "source": [
        "## Big Data Analysis"
      ],
      "metadata": {
        "id": "-SdZ_Oi3jauO"
      }
    },
    {
      "cell_type": "code",
      "source": [
        "#@title Functions for Processing Pulled Data from D3TaLES Database\n",
        "def get_value(prop_list, value_key=\"value\", _id='?', avoid_duplicates=False): \n",
        "  if not prop_list: \n",
        "    return None\n",
        "  if avoid_duplicates and len(prop_list) != 1: \n",
        "    print(\"There are more than one redox potential values for {}\".format(_id))\n",
        "    return None\n",
        "  try: \n",
        "    return prop_list[0][value_key]\n",
        "  except KeyError: \n",
        "    print(\"There is not a redox potential value for {}\".format(_id))\n",
        "\n",
        "def get_redox(source_group=None, limit=500): \n",
        "  if source_group: \n",
        "    query = \"mol_info.source_group={}/mol_characterization.oxidation_potential=1/limit={}\".format(source_group, limit)\n",
        "  else: \n",
        "    query = \"{}/mol_characterization.oxidation_potential=1/limit=\" + str(limit)\n",
        "  response = RESTAPI(method='get', endpoint=\"restapi/molecules/\"+query, \n",
        "                     url=\"https://d3tales.as.uky.edu\", login_endpoint='login',\n",
        "                     return_json=True).response\n",
        "\n",
        "  comp_data = pd.DataFrame(response)\n",
        "  comp_data.rename(columns={'oxidation_potential': 'oxidation_list'}, inplace=True)\n",
        "\n",
        "  comp_data['oxidation_potential'] = comp_data.apply(lambda x: get_value(x.oxidation_list, _id=x._id), axis=1)\n",
        "  comp_data.dropna(inplace=True)\n",
        "\n",
        "  comp_data.set_index(comp_data._id, inplace=True)\n",
        "  comp_data.drop(['oxidation_list', '_id' ], axis=1, inplace=True)\n",
        "  \n",
        "  return comp_data\n",
        "\n",
        "def get_mos(calc_type='opt_groundState', limit=500): \n",
        "  response = RESTAPI(method='get', endpoint=\"restapi/rawdata/computation/calculation_type=\"+calc_type+\"/{}/limit=\"+str(limit), \n",
        "                     url=\"https://d3tales.as.uky.edu\", login_endpoint='login', \n",
        "                     return_json=True).response\n",
        "  response_data = pd.json_normalize(response, max_level=2)\n",
        "  all_data = pd.DataFrame(response_data)\n",
        "\n",
        "  all_data.rename(columns={'{}.data.homo': 'homo', '{}.data.lumo': 'lumo', '{}.mol_id': 'mol_id'}, inplace=True)\n",
        "  all_data.set_index(all_data.mol_id, inplace=True)\n",
        "  comp_data = all_data[['homo', 'lumo']]\n",
        "\n",
        "  comp_data.dropna(inplace=True)\n",
        "  comp_data['homo'] = all_data.apply(lambda x: x.homo.get('value') if isinstance(x.homo, dict) else None, axis=1)\n",
        "  comp_data['lumo'] = all_data.apply(lambda x: x.lumo.get('value')if isinstance(x.lumo, dict) else None, axis=1)\n",
        "  comp_data.dropna(inplace=True)\n",
        "  \n",
        "  return comp_data\n"
      ],
      "metadata": {
        "id": "O3hXmE9I9IGG",
        "cellView": "form"
      },
      "execution_count": null,
      "outputs": []
    },
    {
      "cell_type": "code",
      "source": [
        "# Get molecular orbitals (HOMOs and LUMOs) form backend DB \n",
        "mo_df = get_mos()\n",
        "# Get oxidation potentials from frontend DB \n",
        "redox_df = get_redox()\n",
        "\n",
        "# Merge two dataframes by molecular id (indexes)\n",
        "master_df = pd.merge(mo_df, redox_df, left_index=True, right_index=True)\n",
        "master_df"
      ],
      "metadata": {
        "colab": {
          "base_uri": "https://localhost:8080/",
          "height": 719
        },
        "id": "v1fFO22RjZjl",
        "outputId": "843f64ad-7e87-4d3a-f4ad-7fbd2a53239b"
      },
      "execution_count": null,
      "outputs": [
        {
          "output_type": "stream",
          "name": "stderr",
          "text": [
            "/usr/local/lib/python3.8/dist-packages/pandas/util/_decorators.py:311: SettingWithCopyWarning: \n",
            "A value is trying to be set on a copy of a slice from a DataFrame\n",
            "\n",
            "See the caveats in the documentation: https://pandas.pydata.org/pandas-docs/stable/user_guide/indexing.html#returning-a-view-versus-a-copy\n",
            "  return func(*args, **kwargs)\n",
            "<ipython-input-20-f5a2e638bb52>:45: SettingWithCopyWarning: \n",
            "A value is trying to be set on a copy of a slice from a DataFrame.\n",
            "Try using .loc[row_indexer,col_indexer] = value instead\n",
            "\n",
            "See the caveats in the documentation: https://pandas.pydata.org/pandas-docs/stable/user_guide/indexing.html#returning-a-view-versus-a-copy\n",
            "  comp_data['homo'] = all_data.apply(lambda x: x.homo.get('value') if isinstance(x.homo, dict) else None, axis=1)\n",
            "<ipython-input-20-f5a2e638bb52>:46: SettingWithCopyWarning: \n",
            "A value is trying to be set on a copy of a slice from a DataFrame.\n",
            "Try using .loc[row_indexer,col_indexer] = value instead\n",
            "\n",
            "See the caveats in the documentation: https://pandas.pydata.org/pandas-docs/stable/user_guide/indexing.html#returning-a-view-versus-a-copy\n",
            "  comp_data['lumo'] = all_data.apply(lambda x: x.lumo.get('value')if isinstance(x.lumo, dict) else None, axis=1)\n"
          ]
        },
        {
          "output_type": "execute_result",
          "data": {
            "text/plain": [
              "             homo      lumo  oxidation_potential\n",
              "05AWCY  -6.699447  0.406810             1.150070\n",
              "05BCMO  -7.306261  0.069389             0.901049\n",
              "05CKZO  -6.287738  0.559466             0.741025\n",
              "05DIRJ -11.870429 -5.268127             1.555521\n",
              "05DIRJ -13.857678 -3.931231             1.555521\n",
              "...           ...       ...                  ...\n",
              "90ZXAR  -7.308710  1.959493             0.211076\n",
              "90ZXAR  -7.303812  1.954867             0.211076\n",
              "90ZXAR  -7.299458  1.951057             0.211076\n",
              "90ZYYG  -7.316057  0.521643             1.388501\n",
              "90ZYYG  -7.316057  0.521643             1.388501\n",
              "\n",
              "[466 rows x 3 columns]"
            ],
            "text/html": [
              "\n",
              "  <div id=\"df-7c5d7937-0f42-4b8e-bf55-660beda60346\">\n",
              "    <div class=\"colab-df-container\">\n",
              "      <div>\n",
              "<style scoped>\n",
              "    .dataframe tbody tr th:only-of-type {\n",
              "        vertical-align: middle;\n",
              "    }\n",
              "\n",
              "    .dataframe tbody tr th {\n",
              "        vertical-align: top;\n",
              "    }\n",
              "\n",
              "    .dataframe thead th {\n",
              "        text-align: right;\n",
              "    }\n",
              "</style>\n",
              "<table border=\"1\" class=\"dataframe\">\n",
              "  <thead>\n",
              "    <tr style=\"text-align: right;\">\n",
              "      <th></th>\n",
              "      <th>homo</th>\n",
              "      <th>lumo</th>\n",
              "      <th>oxidation_potential</th>\n",
              "    </tr>\n",
              "  </thead>\n",
              "  <tbody>\n",
              "    <tr>\n",
              "      <th>05AWCY</th>\n",
              "      <td>-6.699447</td>\n",
              "      <td>0.406810</td>\n",
              "      <td>1.150070</td>\n",
              "    </tr>\n",
              "    <tr>\n",
              "      <th>05BCMO</th>\n",
              "      <td>-7.306261</td>\n",
              "      <td>0.069389</td>\n",
              "      <td>0.901049</td>\n",
              "    </tr>\n",
              "    <tr>\n",
              "      <th>05CKZO</th>\n",
              "      <td>-6.287738</td>\n",
              "      <td>0.559466</td>\n",
              "      <td>0.741025</td>\n",
              "    </tr>\n",
              "    <tr>\n",
              "      <th>05DIRJ</th>\n",
              "      <td>-11.870429</td>\n",
              "      <td>-5.268127</td>\n",
              "      <td>1.555521</td>\n",
              "    </tr>\n",
              "    <tr>\n",
              "      <th>05DIRJ</th>\n",
              "      <td>-13.857678</td>\n",
              "      <td>-3.931231</td>\n",
              "      <td>1.555521</td>\n",
              "    </tr>\n",
              "    <tr>\n",
              "      <th>...</th>\n",
              "      <td>...</td>\n",
              "      <td>...</td>\n",
              "      <td>...</td>\n",
              "    </tr>\n",
              "    <tr>\n",
              "      <th>90ZXAR</th>\n",
              "      <td>-7.308710</td>\n",
              "      <td>1.959493</td>\n",
              "      <td>0.211076</td>\n",
              "    </tr>\n",
              "    <tr>\n",
              "      <th>90ZXAR</th>\n",
              "      <td>-7.303812</td>\n",
              "      <td>1.954867</td>\n",
              "      <td>0.211076</td>\n",
              "    </tr>\n",
              "    <tr>\n",
              "      <th>90ZXAR</th>\n",
              "      <td>-7.299458</td>\n",
              "      <td>1.951057</td>\n",
              "      <td>0.211076</td>\n",
              "    </tr>\n",
              "    <tr>\n",
              "      <th>90ZYYG</th>\n",
              "      <td>-7.316057</td>\n",
              "      <td>0.521643</td>\n",
              "      <td>1.388501</td>\n",
              "    </tr>\n",
              "    <tr>\n",
              "      <th>90ZYYG</th>\n",
              "      <td>-7.316057</td>\n",
              "      <td>0.521643</td>\n",
              "      <td>1.388501</td>\n",
              "    </tr>\n",
              "  </tbody>\n",
              "</table>\n",
              "<p>466 rows × 3 columns</p>\n",
              "</div>\n",
              "      <button class=\"colab-df-convert\" onclick=\"convertToInteractive('df-7c5d7937-0f42-4b8e-bf55-660beda60346')\"\n",
              "              title=\"Convert this dataframe to an interactive table.\"\n",
              "              style=\"display:none;\">\n",
              "        \n",
              "  <svg xmlns=\"http://www.w3.org/2000/svg\" height=\"24px\"viewBox=\"0 0 24 24\"\n",
              "       width=\"24px\">\n",
              "    <path d=\"M0 0h24v24H0V0z\" fill=\"none\"/>\n",
              "    <path d=\"M18.56 5.44l.94 2.06.94-2.06 2.06-.94-2.06-.94-.94-2.06-.94 2.06-2.06.94zm-11 1L8.5 8.5l.94-2.06 2.06-.94-2.06-.94L8.5 2.5l-.94 2.06-2.06.94zm10 10l.94 2.06.94-2.06 2.06-.94-2.06-.94-.94-2.06-.94 2.06-2.06.94z\"/><path d=\"M17.41 7.96l-1.37-1.37c-.4-.4-.92-.59-1.43-.59-.52 0-1.04.2-1.43.59L10.3 9.45l-7.72 7.72c-.78.78-.78 2.05 0 2.83L4 21.41c.39.39.9.59 1.41.59.51 0 1.02-.2 1.41-.59l7.78-7.78 2.81-2.81c.8-.78.8-2.07 0-2.86zM5.41 20L4 18.59l7.72-7.72 1.47 1.35L5.41 20z\"/>\n",
              "  </svg>\n",
              "      </button>\n",
              "      \n",
              "  <style>\n",
              "    .colab-df-container {\n",
              "      display:flex;\n",
              "      flex-wrap:wrap;\n",
              "      gap: 12px;\n",
              "    }\n",
              "\n",
              "    .colab-df-convert {\n",
              "      background-color: #E8F0FE;\n",
              "      border: none;\n",
              "      border-radius: 50%;\n",
              "      cursor: pointer;\n",
              "      display: none;\n",
              "      fill: #1967D2;\n",
              "      height: 32px;\n",
              "      padding: 0 0 0 0;\n",
              "      width: 32px;\n",
              "    }\n",
              "\n",
              "    .colab-df-convert:hover {\n",
              "      background-color: #E2EBFA;\n",
              "      box-shadow: 0px 1px 2px rgba(60, 64, 67, 0.3), 0px 1px 3px 1px rgba(60, 64, 67, 0.15);\n",
              "      fill: #174EA6;\n",
              "    }\n",
              "\n",
              "    [theme=dark] .colab-df-convert {\n",
              "      background-color: #3B4455;\n",
              "      fill: #D2E3FC;\n",
              "    }\n",
              "\n",
              "    [theme=dark] .colab-df-convert:hover {\n",
              "      background-color: #434B5C;\n",
              "      box-shadow: 0px 1px 3px 1px rgba(0, 0, 0, 0.15);\n",
              "      filter: drop-shadow(0px 1px 2px rgba(0, 0, 0, 0.3));\n",
              "      fill: #FFFFFF;\n",
              "    }\n",
              "  </style>\n",
              "\n",
              "      <script>\n",
              "        const buttonEl =\n",
              "          document.querySelector('#df-7c5d7937-0f42-4b8e-bf55-660beda60346 button.colab-df-convert');\n",
              "        buttonEl.style.display =\n",
              "          google.colab.kernel.accessAllowed ? 'block' : 'none';\n",
              "\n",
              "        async function convertToInteractive(key) {\n",
              "          const element = document.querySelector('#df-7c5d7937-0f42-4b8e-bf55-660beda60346');\n",
              "          const dataTable =\n",
              "            await google.colab.kernel.invokeFunction('convertToInteractive',\n",
              "                                                     [key], {});\n",
              "          if (!dataTable) return;\n",
              "\n",
              "          const docLinkHtml = 'Like what you see? Visit the ' +\n",
              "            '<a target=\"_blank\" href=https://colab.research.google.com/notebooks/data_table.ipynb>data table notebook</a>'\n",
              "            + ' to learn more about interactive tables.';\n",
              "          element.innerHTML = '';\n",
              "          dataTable['output_type'] = 'display_data';\n",
              "          await google.colab.output.renderOutput(dataTable, element);\n",
              "          const docLink = document.createElement('div');\n",
              "          docLink.innerHTML = docLinkHtml;\n",
              "          element.appendChild(docLink);\n",
              "        }\n",
              "      </script>\n",
              "    </div>\n",
              "  </div>\n",
              "  "
            ]
          },
          "metadata": {},
          "execution_count": 21
        }
      ]
    },
    {
      "cell_type": "code",
      "source": [
        "#@title Seeing Trends in Data\n",
        "\n",
        "#@markdown The Born-Haber cycle describes the change in energy as a molecule undergoes a redox reaction, which can be either a reduction or an oxidation reaction. <br />\n",
        "\n",
        "#@markdown In this section, we will be focusing on just oxidation reactions.\n",
        "\n",
        "#@markdown $\\Delta G_{soln, ox}$ = $\\Delta G_{gas}^{\\circ}$  + $\\Delta G_{ox, soln}^{\\circ}$ - $\\Delta G_{red, soln}^{\\circ}$<br />\n",
        "\n",
        "#@markdown The $\\Delta G_{ox, soln}^{\\circ}$ term is well-correlated with the HOMO energy of a molecule due to Koopmans' Theorem - which states that the oxidation potential is equal to the negative value of the HOMO energy of a molecule.<br />\n",
        "\n",
        "#@markdown So, this implies that the oxidation potential is related to the HOMO energy of the molecule, but due to the $\\Delta G_{gas}^{\\circ}$  and the $\\Delta G_{red, soln}^{\\circ}$ terms, this is not an exact correlation. <br /><br />\n",
        "#@markdown In the graph below, we're looking at the relationship between the HOMO energy values and oxidation potential.\n",
        "\n",
        "x_data = 'homo'\n",
        "y_data = 'oxidation_potential'\n",
        "\n",
        "fig, ax = plt.subplots(1, figsize=(5,5), facecolor='w')\n",
        "ax.scatter(master_df[x_data], master_df[y_data])\n",
        "ax.set_title('', fontsize=20)\n",
        "ax.set_xlabel(x_data, fontsize=14)\n",
        "ax.set_ylabel(y_data, fontsize=14)\n",
        "ax.axis('equal')\n",
        "r2_value = stats.linregress(master_df[x_data], master_df[y_data])[2] **2\n",
        "mse = mean_squared_error(master_df[x_data], master_df[y_data])\n",
        "ax.text(0.05, 0.95, \"$R^2$ Value: {:.4f}\".format(r2_value), transform=ax.transAxes, fontsize=12)\n",
        "ax.text(0.05, 0.9, \"MSE: {:.4f}\".format(mse), transform=ax.transAxes, fontsize=12)\n",
        "ax.set_xlim(plt.xlim())\n",
        "ax.set_ylim(plt.ylim())\n",
        "# Plot reference line \n",
        "ax.plot([-1000,1000], [-1000, 1000], 'k')"
      ],
      "metadata": {
        "colab": {
          "base_uri": "https://localhost:8080/",
          "height": 355
        },
        "id": "qmJ03CLZyl9d",
        "outputId": "3d4bbe0b-5758-4bb7-c66c-d67800649ca1",
        "cellView": "form"
      },
      "execution_count": null,
      "outputs": [
        {
          "output_type": "execute_result",
          "data": {
            "text/plain": [
              "[<matplotlib.lines.Line2D at 0x7f4538305070>]"
            ]
          },
          "metadata": {},
          "execution_count": 23
        },
        {
          "output_type": "display_data",
          "data": {
            "text/plain": [
              "<Figure size 360x360 with 1 Axes>"
            ],
            "image/png": "[encoded data removed]"
          },
          "metadata": {}
        }
      ]
    },
    {
      "cell_type": "code",
      "source": [
        "#@markdown There is a linear correlation between these two values, but the $r^2$ value is reduced by the outliers. Likewise, because the $\\Delta G_{ox, soln}^{\\circ}$ is related to the negative value of the HOMO energy, the correlation is negative. <br /><br />\n",
        "#@markdown So, from these outliers, it can be infered that the $\\Delta G_{gas}^{\\circ}$  and the $\\Delta G_{red, soln}^{\\circ}$ terms can cause the oxidation potential of a molecule to be much different than the negative of that molecule's HOMO energy value.<br /><br />\n"
      ],
      "metadata": {
        "cellView": "form",
        "id": "KWzODBPqN1Ju"
      },
      "execution_count": null,
      "outputs": []
    },
    {
      "cell_type": "code",
      "source": [
        "#@markdown While understanding the relationship between HOMO energy and oxidation potential is fairly straightfoward, there are also non-linear relationship that also have an effect on the HOMO energy and the oxidation potential relationship. For instance there are many properties - such as ring size, ring type, molecular weight, atom type, etc. - that play a role in redox potential.\n",
        "\n",
        "#@markdown In these cases, machine learning can be used to illustrate the relationship between data and features. \n"
      ],
      "metadata": {
        "cellView": "form",
        "id": "0sPt_nwOZ9k9"
      },
      "execution_count": null,
      "outputs": []
    },
    {
      "cell_type": "markdown",
      "source": [
        "## **Synopsis**"
      ],
      "metadata": {
        "id": "w3okkICuveoE"
      }
    },
    {
      "cell_type": "markdown",
      "source": [
        "## **1. Calculate redox potential with the Born-Haber cycle**\n",
        "\n",
        "![](https://drive.google.com/uc?id=1-KtcQjjuTwx3c7tZrqjrLHkrcVX3kiKz)\n",
        "\n",
        "![](https://drive.google.com/uc?id=1PlJjWelyUz48-MMIJCtr0kqI-ESqRuk2)\n",
        "\n",
        "\n",
        "Computationally, calculating the redox potential would look like: \n",
        "```\n",
        "neutral_free_energy = neutral_energy_gas + neutral_correction + (neutral_energy_solv - neutral_energy_gas)\n",
        "anion_free_energy = anion_energy_gas + anion_correction + (anion_energy_solv - anion_energy_gas)\n",
        "redox_potential = -(anion_free_energy - neutral_free_energy) / 1 - 4.43\n",
        "\n",
        "```\n",
        "\n",
        "\n",
        "## **2. Compare calculated with experimentally measured reduction potentials**\n",
        "\n",
        "\n",
        "## **3. View big data trends between E<sup>&deg;</sup><sub>ox</sub> and HOMO**\n",
        "This relationship is generally linear, but not perfect. So, we still need more acurate methods for estimating redox potential (like computation and machine learning). "
      ],
      "metadata": {
        "id": "TvYcMn-wp1td"
      }
    },
    {
      "cell_type": "markdown",
      "source": [
        "Copyright 2021-2023, University of Kentucky and University of Iowa\n",
        "\n",
        "Designed by Rebekah Duke and Amelia Sweet"
      ],
      "metadata": {
        "id": "KaXteH2vcMpF"
      }
    },
    {
      "cell_type": "code",
      "source": [],
      "metadata": {
        "id": "buSHIzzUcPqE"
      },
      "execution_count": null,
      "outputs": []
    }
  ]
}